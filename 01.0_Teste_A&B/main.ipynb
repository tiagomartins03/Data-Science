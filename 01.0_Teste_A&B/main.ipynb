{
 "cells": [
  {
   "cell_type": "markdown",
   "metadata": {},
   "source": [
    "# Testagem A/B"
   ]
  },
  {
   "cell_type": "markdown",
   "metadata": {},
   "source": [
    "Um teste A/B é um experimento com dois grupos para determinar qual dos dois tratamentos, produtos ou procedimentos ou semelhantes é o superior. Geralmente, um dos dois tratamentos é o tratamento-padrão existente, ou nenhum trataamento. Se um tratramento-parão (ou nenhum) for usado, este será chamado de controle. Um hipótese típica é a de que o tramaneto seja melhor que o contole. "
   ]
  },
  {
   "cell_type": "markdown",
   "metadata": {},
   "source": [
    "## Termos chave"
   ]
  },
  {
   "cell_type": "markdown",
   "metadata": {},
   "source": [
    "- Tratamento: Algo (droga, preço, título de site) ao qual um indivíduo é exposto.\n",
    "- Grupo de tratamento: Um grupo de indivíduos expostos a um tratamento expecífico\n",
    "- Grupo de controle: Um grupo de indivíduos expostos a nenhum tratamento (ou padrão)\n",
    "- Randomização: O processo de atribuir aleatoriamente indivíduos a tratamentos\n",
    "- Indivíduos: Os itens (visitantes de um site, pacientes etc.) que são expostos aos tratamentos.\n",
    "- Estatística de teste: A métrica usada para medir o efeito do tratamento. "
   ]
  },
  {
   "cell_type": "code",
   "execution_count": 1,
   "metadata": {},
   "outputs": [
    {
     "name": "stdout",
     "output_type": "stream",
     "text": [
      "Taxa de conversão A: 4.00%\n",
      "Taxa de conversão B: 6.00%\n",
      "Estatística Z: 2.05\n",
      "Valor p: 0.0402\n",
      "Resultado: Existe uma diferença significativa entre as versões A e B.\n"
     ]
    }
   ],
   "source": [
    "import numpy as np\n",
    "import scipy.stats as stats\n",
    "\n",
    "# Dados da testagem A/B\n",
    "# Exemplo: Número de usuários que clicaram no botão e número total de usuários que viram a versão\n",
    "cliques_A = 40  # Número de cliques na versão A\n",
    "total_A = 1000  # Total de visualizações da versão A\n",
    "\n",
    "cliques_B = 60  # Número de cliques na versão B\n",
    "total_B = 1000  # Total de visualizações da versão B\n",
    "\n",
    "# Taxas de conversão (cliques) para cada versão\n",
    "taxa_conversao_A = cliques_A / total_A\n",
    "taxa_conversao_B = cliques_B / total_B\n",
    "\n",
    "print(f'Taxa de conversão A: {taxa_conversao_A:.2%}')\n",
    "print(f'Taxa de conversão B: {taxa_conversao_B:.2%}')\n",
    "\n",
    "# Teste Z para proporções\n",
    "# H0: A taxa de conversão é a mesma para A e B\n",
    "# H1: A taxa de conversão é diferente entre A e B\n",
    "\n",
    "# Proporção combinada (pooling)\n",
    "p_combined = (cliques_A + cliques_B) / (total_A + total_B)\n",
    "\n",
    "# Estatística Z\n",
    "z_score = (taxa_conversao_B - taxa_conversao_A) / np.sqrt(p_combined * (1 - p_combined) * (1/total_A + 1/total_B))\n",
    "\n",
    "# Valor p (bicaudal)\n",
    "p_value = 2 * (1 - stats.norm.cdf(abs(z_score)))\n",
    "\n",
    "print(f'Estatística Z: {z_score:.2f}')\n",
    "print(f'Valor p: {p_value:.4f}')\n",
    "\n",
    "# Verificar significância estatística\n",
    "alpha = 0.05\n",
    "if p_value < alpha:\n",
    "    print(\"Resultado: Existe uma diferença significativa entre as versões A e B.\")\n",
    "else:\n",
    "    print(\"Resultado: Não há uma diferença significativa entre as versões A e B.\")\n"
   ]
  },
  {
   "cell_type": "markdown",
   "metadata": {},
   "source": [
    "# Tipos de Testes A/B"
   ]
  },
  {
   "cell_type": "markdown",
   "metadata": {},
   "source": [
    "Os testes A/B podem ser realizados de várias maneiras, dependendo do objetivo do experimento e das condições específicas em que os testes são conduzidos. Aqui estão os principais tipos de Testes A/B:\n",
    "\n",
    "### 1. **Teste A/B Simples**\n",
    "   - **Descrição:** O teste A/B básico, onde duas versões (A e B) de uma variável são comparadas para determinar qual delas performa melhor em relação a um determinado objetivo.\n",
    "   - **Exemplo:** Comparar duas versões de uma página de destino (landing page) para ver qual tem a maior taxa de conversão.\n",
    "\n",
    "### 2. **Teste A/B/A/B (Teste Sequencial)**\n",
    "   - **Descrição:** Neste teste, as versões A e B são alternadas várias vezes durante o experimento para garantir que as condições externas (como dia da semana ou hora do dia) não influenciem os resultados.\n",
    "   - **Exemplo:** Testar uma nova interface de usuário alternando entre a versão antiga (A) e a nova (B) várias vezes ao longo do experimento.\n",
    "\n",
    "### 3. **Teste A/B/N (Multivariável)**\n",
    "   - **Descrição:** Um teste A/B/N é uma extensão do teste A/B que compara mais de duas versões de uma variável (A, B, C, etc.). Este tipo de teste é útil quando você tem mais de duas variações para testar simultaneamente.\n",
    "   - **Exemplo:** Comparar três versões de um e-mail de marketing (A, B, C) para ver qual tem a maior taxa de abertura.\n",
    "\n",
    "### 4. **Teste Múltiplo de Variantes (Multivariate Testing - MVT)**\n",
    "   - **Descrição:** Diferente do teste A/B, que testa uma única variável por vez, o teste multivariado testa várias variáveis simultaneamente para entender como diferentes combinações afetam o desempenho.\n",
    "   - **Exemplo:** Testar diferentes combinações de título, imagem e botão em uma página de destino para identificar a combinação que gera a maior taxa de conversão.\n",
    "\n",
    "### 5. **Teste Dividido (Split Testing)**\n",
    "   - **Descrição:** Diferente do A/B tradicional, onde os usuários veem diferentes versões no mesmo URL, no teste dividido, diferentes URLs ou páginas completas são testadas. Isso é usado quando as mudanças são significativas, como testar layouts completamente diferentes.\n",
    "   - **Exemplo:** Comparar duas versões completamente diferentes de um site, cada uma em uma URL separada, para ver qual versão atrai mais visitantes.\n",
    "\n",
    "### 6. **Teste de Interrupção (Bandit Testing)**\n",
    "   - **Descrição:** Neste tipo de teste, o tráfego é inicialmente dividido igualmente entre as variantes, mas à medida que os resultados começam a aparecer, mais tráfego é direcionado para a versão que está performando melhor. Isso permite uma otimização contínua.\n",
    "   - **Exemplo:** Testar diferentes versões de um anúncio online, onde a versão que recebe mais cliques é automaticamente exibida para um número maior de usuários ao longo do tempo.\n",
    "\n",
    "### 7. **Teste Bayesiano**\n",
    "   - **Descrição:** Um método estatístico que permite ajustar as probabilidades de sucesso de cada variante à medida que os dados são coletados, resultando em decisões mais dinâmicas sobre qual variante é a melhor. Diferente do A/B clássico, não requer uma amostra de tamanho fixo.\n",
    "   - **Exemplo:** Usar métodos bayesianos para ajustar continuamente a alocação de tráfego para as versões de uma página com base no desempenho observado.\n",
    "\n",
    "### 8. **Teste A/B de Formato Cruzado (Cross-Device A/B Testing)**\n",
    "   - **Descrição:** Realiza-se o teste A/B em diferentes dispositivos (por exemplo, desktop vs. mobile) para verificar se o desempenho varia entre as plataformas.\n",
    "   - **Exemplo:** Testar a mesma variação de uma página de destino em usuários de desktop e mobile para verificar se há diferença na taxa de conversão entre os dispositivos.\n",
    "\n",
    "### 9. **Teste A/B Incremental**\n",
    "   - **Descrição:** Focado em medir o impacto incremental de uma mudança em relação a uma linha de base, em vez de comparar duas versões distintas.\n",
    "   - **Exemplo:** Implementar uma pequena mudança no design de um botão em uma página de destino e medir o impacto incremental dessa mudança em relação à versão anterior.\n",
    "\n",
    "### 10. **Teste de Personalização (Personalization A/B Testing)**\n",
    "   - **Descrição:** Em vez de testar variações genéricas para todos os usuários, este teste avalia diferentes experiências personalizadas para subgrupos específicos de usuários.\n",
    "   - **Exemplo:** Testar variações de conteúdo para diferentes segmentos de clientes com base no comportamento anterior ou dados demográficos.\n",
    "\n",
    "### 11. **Teste A/B de Fatores Falsos Positivos (Holdout Testing)**\n",
    "   - **Descrição:** Parte dos usuários são deliberadamente expostos a uma versão de controle sem qualquer alteração (mesmo que seja uma variante que foi anteriormente vencedora) para testar se as alterações de desempenho são reais ou apenas flutuações aleatórias.\n",
    "   - **Exemplo:** Manter um grupo de controle com a versão antiga de uma campanha de e-mail enquanto o restante do público recebe a nova versão para validar a eficácia real.\n",
    "\n",
    "Cada tipo de teste A/B oferece uma abordagem específica para resolver diferentes questões de otimização, permitindo uma compreensão mais profunda de como as mudanças impactam o comportamento do usuário e a performance de uma campanha ou produto."
   ]
  },
  {
   "cell_type": "markdown",
   "metadata": {},
   "source": []
  }
 ],
 "metadata": {
  "kernelspec": {
   "display_name": "Python 3",
   "language": "python",
   "name": "python3"
  },
  "language_info": {
   "codemirror_mode": {
    "name": "ipython",
    "version": 3
   },
   "file_extension": ".py",
   "mimetype": "text/x-python",
   "name": "python",
   "nbconvert_exporter": "python",
   "pygments_lexer": "ipython3",
   "version": "3.11.5"
  }
 },
 "nbformat": 4,
 "nbformat_minor": 2
}
