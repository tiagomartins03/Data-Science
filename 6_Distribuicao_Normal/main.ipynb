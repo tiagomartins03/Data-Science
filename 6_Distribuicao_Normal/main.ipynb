{
 "cells": [
  {
   "cell_type": "markdown",
   "metadata": {},
   "source": [
    "# Distribuição Normal"
   ]
  },
  {
   "cell_type": "markdown",
   "metadata": {},
   "source": [
    "## É aquela na qual as unidades do eixo X são expressas en termos de desvio-padão da média. Ela descreve como os dados se distribuem em torno de um valor central, formando uma curva simétrica e arredondada.\n",
    "\n",
    "- É simétrica: a parte esquerda da curva é um espelho da parte direita.\n",
    "- É unimodal: possui apenas um pico, que corresponde ao valor mais frequente (a média).\n",
    "- A área total sob a curva é igual a 1, representando 100% dos dados."
   ]
  },
  {
   "cell_type": "markdown",
   "metadata": {},
   "source": [
    "## Assimetria"
   ]
  },
  {
   "cell_type": "markdown",
   "metadata": {},
   "source": [
    "### Assimetria Positiva (Skewness Positiva):\n",
    "\n",
    "- Quando a cauda direita da distribuição é mais longa ou mais gorda do que a cauda esquerda.\n",
    "- A maior parte dos valores se concentra à esquerda da média, com valores extremos mais à direita.\n",
    "- Exemplo: Distribuição de renda em muitos países.\n",
    "\n",
    "### Assimetria Negativa (Skewness Negativa):\n",
    "\n",
    "- Quando a cauda esquerda da distribuição é mais longa ou mais gorda do que a cauda direita.\n",
    "- A maior parte dos valores se concentra à direita da média, com valores extremos mais à esquerda.\n",
    "- Exemplo: Distribuição de notas de uma turma onde a maioria dos alunos tira notas altas."
   ]
  },
  {
   "cell_type": "markdown",
   "metadata": {},
   "source": []
  }
 ],
 "metadata": {
  "language_info": {
   "name": "python"
  }
 },
 "nbformat": 4,
 "nbformat_minor": 2
}
