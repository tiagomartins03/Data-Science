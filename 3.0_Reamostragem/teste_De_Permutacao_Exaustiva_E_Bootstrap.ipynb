{
 "cells": [
  {
   "cell_type": "markdown",
   "metadata": {},
   "source": [
    "# Teste de Permutação Exaustiva"
   ]
  },
  {
   "cell_type": "markdown",
   "metadata": {},
   "source": [
    "Em vez de simplesmente embaralhar aleatoriamente e dividir os dados, nós na verdade adivinhamos **todos os modos possíveis em que podem ser divididos**. Isso é prático apenas para tamanhos de amostra relativamente pequenos. Tem a propriedade de garantir que o modelo nulo não seja testato como ‘significante’ além do nível alfa do teste."
   ]
  },
  {
   "cell_type": "markdown",
   "metadata": {},
   "source": []
  },
  {
   "cell_type": "code",
   "execution_count": 2,
   "metadata": {},
   "outputs": [
    {
     "name": "stdout",
     "output_type": "stream",
     "text": [
      "P-valor do teste de permutação exaustiva: 0.6984\n"
     ]
    }
   ],
   "source": [
    "import numpy as np\n",
    "from itertools import permutations\n",
    "\n",
    "# Função para calcular a diferença de médias entre dois grupos\n",
    "def diff_of_means(data, group1, group2):\n",
    "    return np.mean([data[i] for i in group1]) - np.mean([data[i] for i in group2])\n",
    "\n",
    "# Função para realizar o teste de permutação exaustiva\n",
    "def permutation_test(data, group1, group2):\n",
    "    n = len(group1) + len(group2)\n",
    "    obs_diff = diff_of_means(data, group1, group2)\n",
    "    \n",
    "    # Todas as permutações possíveis das posições dos elementos\n",
    "    all_perms = list(permutations(range(n)))\n",
    "    count = 0\n",
    "    \n",
    "    # Contar quantas vezes a diferença de médias permutada é maior ou igual à observada\n",
    "    for perm in all_perms:\n",
    "        perm_group1 = perm[:len(group1)]\n",
    "        perm_group2 = perm[len(group1):]\n",
    "        perm_diff = diff_of_means(data, perm_group1, perm_group2)\n",
    "        if abs(perm_diff) >= abs(obs_diff):\n",
    "            count += 1\n",
    "    \n",
    "    # P-valor como a proporção de permutações que excedem a diferença observada\n",
    "    p_value = count / len(all_perms)\n",
    "    return p_value\n",
    "\n",
    "# Exemplo de uso\n",
    "np.random.seed(42)\n",
    "group1 = np.array([23, 45, 67, 89, 12])\n",
    "group2 = np.array([56, 78, 34, 90, 13])\n",
    "\n",
    "# Unir os grupos para facilitar a permutação\n",
    "data = np.concatenate((group1, group2))\n",
    "n1 = len(group1)\n",
    "n2 = len(group2)\n",
    "\n",
    "# Índices dos grupos\n",
    "indices1 = list(range(n1))\n",
    "indices2 = list(range(n1, n1 + n2))\n",
    "\n",
    "# Realizar o teste de permutação\n",
    "p_value = permutation_test(data, indices1, indices2)\n",
    "print(f\"P-valor do teste de permutação exaustiva: {p_value:.4f}\")\n"
   ]
  },
  {
   "cell_type": "markdown",
   "metadata": {},
   "source": [
    "# Teste de Permutação Bootstrap"
   ]
  },
  {
   "cell_type": "markdown",
   "metadata": {},
   "source": [
    "O teste de permutação por bootstrap é uma técnica que combina a ideia de permutação com o reamostramento bootstrap para testar hipóteses sobre as diferenças entre grupos. Em vez de calcular todas as permutações possíveis (como em um teste de permutação exaustiva), o bootstrap permite gerar muitas amostras aleatórias, tornando o processo mais eficiente, especialmente para conjuntos de dados maiores."
   ]
  },
  {
   "cell_type": "code",
   "execution_count": 3,
   "metadata": {},
   "outputs": [
    {
     "name": "stdout",
     "output_type": "stream",
     "text": [
      "P-valor do teste de permutação por bootstrap: 0.6998\n"
     ]
    }
   ],
   "source": [
    "import numpy as np\n",
    "\n",
    "# Função para calcular a diferença de médias entre dois grupos\n",
    "def diff_of_means(data, group1, group2):\n",
    "    return np.mean(group1) - np.mean(group2)\n",
    "\n",
    "# Função para realizar o teste de permutação por bootstrap\n",
    "def bootstrap_permutation_test(group1, group2, num_iterations=10000):\n",
    "    data = np.concatenate((group1, group2))\n",
    "    n1 = len(group1)\n",
    "    observed_diff = diff_of_means(data, group1, group2)\n",
    "    \n",
    "    count = 0\n",
    "    for _ in range(num_iterations):\n",
    "        # Permutar os dados e dividir novamente em dois grupos\n",
    "        permuted_data = np.random.permutation(data)\n",
    "        perm_group1 = permuted_data[:n1]\n",
    "        perm_group2 = permuted_data[n1:]\n",
    "        \n",
    "        # Calcular a diferença de médias\n",
    "        perm_diff = diff_of_means(data, perm_group1, perm_group2)\n",
    "        \n",
    "        # Contar quantas vezes a diferença permutada é maior ou igual à observada\n",
    "        if abs(perm_diff) >= abs(observed_diff):\n",
    "            count += 1\n",
    "    \n",
    "    # P-valor como a proporção de permutações que excedem a diferença observada\n",
    "    p_value = count / num_iterations\n",
    "    return p_value\n",
    "\n",
    "# Exemplo de uso\n",
    "np.random.seed(42)\n",
    "group1 = np.array([23, 45, 67, 89, 12])\n",
    "group2 = np.array([56, 78, 34, 90, 13])\n",
    "\n",
    "# Realizar o teste de permutação por bootstrap\n",
    "p_value = bootstrap_permutation_test(group1, group2, num_iterations=10000)\n",
    "print(f\"P-valor do teste de permutação por bootstrap: {p_value:.4f}\")\n"
   ]
  },
  {
   "cell_type": "markdown",
   "metadata": {},
   "source": [
    "Os testes de permutação são úteis em procedimentos heurísticos para a exploração do papel da variação aleatória. Eles são relativamente **simples** de serem codificados, interpretados e explicar e oferecem um desvio útil do redor do formalismo e 'falso determinismo' das estatísticas baseadas em fórmulas. \n",
    "\n",
    "O resultado chega muito mais perto de uma abordagem de **'tamanho' único** à inferência. Os dados podem ser númericos ou binários. Os tamanhos podem ser iguais ou diferentes. As suposições sobre os dados normalmente distribuídos não são necessárias.\n",
    "\n",
    "---\n",
    "\n",
    "## Ideias-chave\n",
    "\n",
    "*   Em um teste de permutação, múltiplas amostras são **combinadas** e então **embaralhadas**\n",
    "*   Os **valores embaralhados** são então **divididos** em reamostras, e a estatística de interesse é **calculada**.\n",
    "*   Esse processo é então **repetido**, e a estatística **reamostrada** é tabulada.\n",
    "*   A comparação dos valores observados da estatística com a distribuição reamostrada permite julgar se uma diferença observada entre as amostras pode ocorre por acaso.\n",
    "\n"
   ]
  },
  {
   "cell_type": "markdown",
   "metadata": {},
   "source": []
  },
  {
   "cell_type": "markdown",
   "metadata": {},
   "source": [
    "## Código"
   ]
  },
  {
   "cell_type": "code",
   "execution_count": 4,
   "metadata": {},
   "outputs": [
    {
     "name": "stdout",
     "output_type": "stream",
     "text": [
      "P-valor do teste de permutação por bootstrap: 0.6998\n"
     ]
    }
   ],
   "source": [
    "import numpy as np\n",
    "\n",
    "# Função para calcular a diferença de médias entre dois grupos\n",
    "def diff_of_means(data, group1, group2):\n",
    "    return np.mean(group1) - np.mean(group2)\n",
    "\n",
    "# Função para realizar o teste de permutação por bootstrap\n",
    "def bootstrap_permutation_test(group1, group2, num_iterations=10000):\n",
    "    data = np.concatenate((group1, group2))\n",
    "    n1 = len(group1)\n",
    "    observed_diff = diff_of_means(data, group1, group2)\n",
    "    \n",
    "    count = 0\n",
    "    for _ in range(num_iterations):\n",
    "        # Permutar os dados e dividir novamente em dois grupos\n",
    "        permuted_data = np.random.permutation(data)\n",
    "        perm_group1 = permuted_data[:n1]\n",
    "        perm_group2 = permuted_data[n1:]\n",
    "        \n",
    "        # Calcular a diferença de médias\n",
    "        perm_diff = diff_of_means(data, perm_group1, perm_group2)\n",
    "        \n",
    "        # Contar quantas vezes a diferença permutada é maior ou igual à observada\n",
    "        if abs(perm_diff) >= abs(observed_diff):\n",
    "            count += 1\n",
    "    \n",
    "    # P-valor como a proporção de permutações que excedem a diferença observada\n",
    "    p_value = count / num_iterations\n",
    "    return p_value\n",
    "\n",
    "# Exemplo de uso\n",
    "np.random.seed(42)\n",
    "group1 = np.array([23, 45, 67, 89, 12])\n",
    "group2 = np.array([56, 78, 34, 90, 13])\n",
    "\n",
    "# Realizar o teste de permutação por bootstrap\n",
    "p_value = bootstrap_permutation_test(group1, group2, num_iterations=10000)\n",
    "print(f\"P-valor do teste de permutação por bootstrap: {p_value:.4f}\")\n"
   ]
  }
 ],
 "metadata": {
  "kernelspec": {
   "display_name": "Python 3",
   "language": "python",
   "name": "python3"
  },
  "language_info": {
   "codemirror_mode": {
    "name": "ipython",
    "version": 3
   },
   "file_extension": ".py",
   "mimetype": "text/x-python",
   "name": "python",
   "nbconvert_exporter": "python",
   "pygments_lexer": "ipython3",
   "version": "3.11.5"
  }
 },
 "nbformat": 4,
 "nbformat_minor": 2
}
