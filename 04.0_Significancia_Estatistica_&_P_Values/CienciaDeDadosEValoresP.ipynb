{
 "cells": [
  {
   "cell_type": "markdown",
   "metadata": {},
   "source": [
    "**Valor P na Ciência de Dados**\n",
    "Para um cientista de dados, o Valor P é uma métrica útil em situações em que se quer saber se um resultado de modelo que parece interessante e útil está dentro da faixa de variabilidade de acaso normal. \n"
   ]
  },
  {
   "cell_type": "markdown",
   "metadata": {},
   "source": [
    "## Ideias-chave\n",
    "\n",
    "---\n",
    "\n",
    "*   Os testes de significância são usados para determinar se um efeito observado está **dentro da faixa de variação do acaso** para um modelo de hipótese nula.\n",
    "*   O valor p é a probabilidade de os resultados **tão extremos** quanto os **resultados observados** podem ocorrer, dado um modelo de hipótese\n",
    "*   O valor alfa é o liminar de ‘não ser comum’ em um modelo de acaso de hipótese nula\n",
    "*   O teste de significância tem sido mais relevante para o registro formal de pesquisas do que para a ciência de dados."
   ]
  },
  {
   "cell_type": "markdown",
   "metadata": {},
   "source": []
  }
 ],
 "metadata": {
  "language_info": {
   "name": "python"
  }
 },
 "nbformat": 4,
 "nbformat_minor": 2
}
