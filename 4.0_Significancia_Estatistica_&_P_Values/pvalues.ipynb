{
 "cells": [
  {
   "cell_type": "markdown",
   "metadata": {},
   "source": [
    "# P Values"
   ]
  },
  {
   "cell_type": "markdown",
   "metadata": {},
   "source": [
    "1.  **Valor P**: Dado um modelo de acaso que representa a hipótese nula, o valor p é a probabilidade de obter resultados tão incomuns ou extraemos quanto os resultados observados.\n",
    "2.  **Alfa:** Um limiar de probabilidade de “ser incomum” que os resultados do acaso podem ultrapassar, para resultados reais serem definidos como estatisticamente significantes.\n",
    "3.  **Erro tipo 1:** Concluir erroneamente que um efeito é real (quando acontece pelo acaso)\n",
    "4.  **Erro tipo 2:** Concluir erroneamente que um efeito ocorreu pelo acaso (quando é real)"
   ]
  },
  {
   "cell_type": "markdown",
   "metadata": {},
   "source": [
    "- P-value baixo (geralmente ≤ 0,05): Se o P-value for baixo, isso sugere que os resultados observados são improváveis sob a hipótese nula. Isso leva à rejeição da hipótese nula, indicando que há uma diferença ou efeito estatisticamente significativo.\n",
    "- P-value alto (> 0,05): Um P-value alto indica que os resultados observados são compatíveis com a hipótese nula, sugerindo que não há evidência suficiente para rejeitar a hipótese nula."
   ]
  },
  {
   "cell_type": "markdown",
   "metadata": {},
   "source": [
    "## Exemplo"
   ]
  },
  {
   "cell_type": "markdown",
   "metadata": {},
   "source": [
    "Imagine que você quer testar se uma moeda é justa, ou seja, se a probabilidade de sair cara ou coroa é a mesma. A hipótese nula seria que a moeda é justa. Você lança a moeda 100 vezes e obtém 70 caras e 30 coroas.\n",
    "\n",
    "Você realiza um teste estatístico e obtém um P-value de 0,01.\n",
    "Um P-value de 0,01 indica que há apenas 1% de chance de obter um resultado tão extremo quanto 70 caras em 100 lançamentos, assumindo que a moeda seja justa.\n",
    "\n",
    "Como o P-value é muito baixo, você pode rejeitar a hipótese nula e concluir que a moeda provavelmente não é justa."
   ]
  },
  {
   "cell_type": "code",
   "execution_count": 1,
   "metadata": {},
   "outputs": [
    {
     "name": "stdout",
     "output_type": "stream",
     "text": [
      "Estatística t: -1.5700\n",
      "p-value: 0.1604\n",
      "Não rejeitamos a hipótese nula (H0).\n"
     ]
    }
   ],
   "source": [
    "import scipy.stats as stats\n",
    "import numpy as np\n",
    "\n",
    "# Dados da amostra\n",
    "amostra = [2.5, 2.9, 2.1, 3.6, 2.7, 3.0, 2.4, 2.8]\n",
    "\n",
    "# Média populacional conhecida\n",
    "mu_populacional = 3.0\n",
    "\n",
    "# Tamanho da amostra\n",
    "n = len(amostra)\n",
    "\n",
    "# Média da amostra\n",
    "media_amostra = np.mean(amostra)\n",
    "\n",
    "# Desvio padrão da amostra\n",
    "desvio_padrao_amostra = np.std(amostra, ddof=1)\n",
    "\n",
    "# Estatística t\n",
    "t_stat = (media_amostra - mu_populacional) / (desvio_padrao_amostra / np.sqrt(n))\n",
    "\n",
    "# p-value para o teste bicaudal\n",
    "p_value = 2 * (1 - stats.t.cdf(abs(t_stat), df=n-1))\n",
    "\n",
    "print(f\"Estatística t: {t_stat:.4f}\")\n",
    "print(f\"p-value: {p_value:.4f}\")\n",
    "\n",
    "# Nível de significância\n",
    "alpha = 0.05\n",
    "\n",
    "if p_value < alpha:\n",
    "    print(\"Rejeitamos a hipótese nula (H0).\")\n",
    "else:\n",
    "    print(\"Não rejeitamos a hipótese nula (H0).\")\n"
   ]
  },
  {
   "cell_type": "markdown",
   "metadata": {},
   "source": [
    "> A probabilidade de que, dado um modelo de acaso, podem ocorrer\n",
    "> resultados tão extremos quanto os resultados observados"
   ]
  },
  {
   "cell_type": "markdown",
   "metadata": {},
   "source": []
  }
 ],
 "metadata": {
  "kernelspec": {
   "display_name": "Python 3",
   "language": "python",
   "name": "python3"
  },
  "language_info": {
   "codemirror_mode": {
    "name": "ipython",
    "version": 3
   },
   "file_extension": ".py",
   "mimetype": "text/x-python",
   "name": "python",
   "nbconvert_exporter": "python",
   "pygments_lexer": "ipython3",
   "version": "3.11.5"
  }
 },
 "nbformat": 4,
 "nbformat_minor": 2
}
