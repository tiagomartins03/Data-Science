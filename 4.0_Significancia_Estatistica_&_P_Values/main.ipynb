{
 "cells": [
  {
   "cell_type": "markdown",
   "metadata": {},
   "source": [
    "# P Values"
   ]
  },
  {
   "cell_type": "markdown",
   "metadata": {},
   "source": [
    "1.  **Valor P**: Dado um modelo de acaso que representa a hipótese nula, o valor p é a probabilidade de obter resultados tão incomuns ou extraemos quanto os resultados observados.\n",
    "2.  **Alfa:** Um limiar de probabilidade de “ser incomum” que os resultados do acaso podem ultrapassar, para resultados reais serem definidos como estatisticamente significantes.\n",
    "3.  **Erro tipo 1:** Concluir erroneamente que um efeito é real (quando acontece pelo acaso)\n",
    "4.  **Erro tipo 2:** Concluir erroneamente que um efeito ocorreu pelo acaso (quando é real)"
   ]
  },
  {
   "cell_type": "markdown",
   "metadata": {},
   "source": [
    "- P-value baixo (geralmente ≤ 0,05): Se o P-value for baixo, isso sugere que os resultados observados são improváveis sob a hipótese nula. Isso leva à rejeição da hipótese nula, indicando que há uma diferença ou efeito estatisticamente significativo.\n",
    "- P-value alto (> 0,05): Um P-value alto indica que os resultados observados são compatíveis com a hipótese nula, sugerindo que não há evidência suficiente para rejeitar a hipótese nula."
   ]
  },
  {
   "cell_type": "markdown",
   "metadata": {},
   "source": [
    "## Exemplo"
   ]
  },
  {
   "cell_type": "markdown",
   "metadata": {},
   "source": [
    "Imagine que você quer testar se uma moeda é justa, ou seja, se a probabilidade de sair cara ou coroa é a mesma. A hipótese nula seria que a moeda é justa. Você lança a moeda 100 vezes e obtém 70 caras e 30 coroas.\n",
    "\n",
    "Você realiza um teste estatístico e obtém um P-value de 0,01.\n",
    "Um P-value de 0,01 indica que há apenas 1% de chance de obter um resultado tão extremo quanto 70 caras em 100 lançamentos, assumindo que a moeda seja justa.\n",
    "\n",
    "Como o P-value é muito baixo, você pode rejeitar a hipótese nula e concluir que a moeda provavelmente não é justa."
   ]
  },
  {
   "cell_type": "markdown",
   "metadata": {},
   "source": []
  }
 ],
 "metadata": {
  "kernelspec": {
   "display_name": "Python 3",
   "language": "python",
   "name": "python3"
  },
  "language_info": {
   "codemirror_mode": {
    "name": "ipython",
    "version": 3
   },
   "file_extension": ".py",
   "mimetype": "text/x-python",
   "name": "python",
   "nbconvert_exporter": "python",
   "pygments_lexer": "ipython3",
   "version": "3.11.5"
  }
 },
 "nbformat": 4,
 "nbformat_minor": 2
}
