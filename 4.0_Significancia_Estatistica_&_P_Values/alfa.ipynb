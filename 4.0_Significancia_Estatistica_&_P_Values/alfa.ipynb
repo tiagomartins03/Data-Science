{
 "cells": [
  {
   "cell_type": "markdown",
   "metadata": {},
   "source": [
    "# Alpha"
   ]
  },
  {
   "cell_type": "markdown",
   "metadata": {},
   "source": [
    "Os pequisadores acreditam que o termo muito incomum é vago. Pensando nisso eles estipularam o termo alfa. Esse termo significa o mais estremo que 5% do resultado do acaso (hipótese nula).\n",
    "\n",
    "Esse termo tem como definição:\n",
    "Dado um modelo ao acaso, qual é a probabilidade de haver um resultado tão extremo?\n"
   ]
  }
 ],
 "metadata": {
  "language_info": {
   "name": "python"
  }
 },
 "nbformat": 4,
 "nbformat_minor": 2
}
