{
 "cells": [
  {
   "cell_type": "markdown",
   "metadata": {},
   "source": [
    "# Alpha"
   ]
  },
  {
   "cell_type": "markdown",
   "metadata": {},
   "source": [
    "O **valor de significância** (denotado como α) é um limiar usado em testes estatísticos para decidir se um resultado é estatisticamente significativo. Ele representa a **probabilidade máxima de rejeitar a hipótese nula (H\\_0)** quando ela é verdadeira, ou seja, a probabilidade de cometer um erro do Tipo I (falso positivo).\n",
    "\n",
    "Quando você realiza um teste estatístico, você compara o valor p (probabilidade de obter um resultado pelo menos tão extremo quanto o observado, dado que (H\\_0) é verdadeira) com o valor de significância (\\\\alpha). Se o valor p for menor ou igual a (α), você rejeita a hipótese nula, considerando o resultado como estatisticamente significativo.\n",
    "\n",
    "### Por que (α = 0.05)?\n",
    "\n",
    "O valor (α = 0.05) é um padrão amplamente aceito na pesquisa científica, introduzido por Ronald Fisher no início do século XX. Isso significa que você está disposto a aceitar uma chance de 5% de cometer um erro do Tipo I ao rejeitar a hipótese nula.\n",
    "\n",
    "A escolha de 0,05 é, em grande parte, uma convenção histórica e oferece um **equilíbrio** entre ser **rigoroso** o suficiente para evitar muitos falsos positivos e ser **flexível** o suficiente para detectar efeitos reais. Em algumas áreas, valores de (α) mais rigorosos, como 0,01, ou mais relaxados, como 0,10, podem ser usados, dependendo do contexto da pesquisa e das consequências de cometer um erro do Tipo I.\n",
    "\n",
    "### Flexibilidade no (α)\n",
    "\n",
    "Embora (\\\\alpha = 0,05) seja comum, o valor de significância pode ser ajustado de acordo com a área de estudo e a gravidade dos erros potenciais. Em áreas como a medicina, onde falsos positivos podem levar a tratamentos desnecessários ou perigosos, um (α) menor pode ser usado para tornar o teste mais conservador."
   ]
  },
  {
   "cell_type": "markdown",
   "metadata": {},
   "source": []
  }
 ],
 "metadata": {
  "language_info": {
   "name": "python"
  }
 },
 "nbformat": 4,
 "nbformat_minor": 2
}
