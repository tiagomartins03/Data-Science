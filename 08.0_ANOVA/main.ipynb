{
 "cells": [
  {
   "cell_type": "markdown",
   "metadata": {},
   "source": [
    "# ANOVA\n",
    "---"
   ]
  },
  {
   "cell_type": "markdown",
   "metadata": {},
   "source": [
    "Suponha que, em vez de um teste A/B, tivéssemos uma comparação de múltiplos grupos, digamos A-B-C-D, cada um com dados numéricos. O procedimento estatístico que testa se há uma diferença estatisticamente significativa entre os grupos é chamado de análise de variância ou ANOVA"
   ]
  },
  {
   "cell_type": "markdown",
   "metadata": {},
   "source": [
    "### Comparação entre os pares\n",
    "\n",
    "Um teste de hipótese (por exemplo, de médias) entre dois grupos em meio a múltiplos grupos.\n",
    "\n",
    "---\n",
    "\n",
    "### Teste coletivo\n",
    "\n",
    "Um único teste de hipótese de variância geral entre  múltiplas médias de grupo\n",
    "\n",
    "---\n",
    "\n",
    "### Decomposição de variância\n",
    "\n",
    "A separação de componentes contribuindo com um valor individual (por exemplo, da média geral, de uma média de tratamento e de um erro residual)\n",
    "\n",
    "---\n",
    "\n",
    "### Estatística  F\n",
    "\n",
    "Uma estatística padronizada que mede o quanto as diferenças entre as médias dos grupos excedem o que poderia ser esperado em um modelo de acaso.\n",
    "\n",
    "---\n",
    "\n",
    "### SQ (SS)\n",
    "\n",
    "A “Soma dos Quadrados (Sum of Squares)”, se referindo aos desvios de algum valor médio."
   ]
  },
  {
   "cell_type": "markdown",
   "metadata": {},
   "source": []
  },
  {
   "cell_type": "code",
   "execution_count": 3,
   "metadata": {},
   "outputs": [
    {
     "name": "stdout",
     "output_type": "stream",
     "text": [
      "Estatística F: 42.81132075471694\n",
      "Valor p: 3.449722391346012e-06\n",
      "Rejeitamos a hipótese nula. Existem diferenças significativas entre os grupos.\n"
     ]
    }
   ],
   "source": [
    "import numpy as np\n",
    "import scipy.stats as stats\n",
    "\n",
    "# Gerando dados de exemplo\n",
    "# Suponha que temos três grupos de alunos que usaram diferentes métodos de estudo\n",
    "metodo_1 = [85, 87, 89, 85, 88]\n",
    "metodo_2 = [80, 82, 84, 79, 81]\n",
    "metodo_3 = [90, 93, 92, 95, 91]\n",
    "\n",
    "# Realizando o teste ANOVA\n",
    "f_stat, p_value = stats.f_oneway(metodo_1, metodo_2, metodo_3)\n",
    "\n",
    "# Resultados\n",
    "print(f'Estatística F: {f_stat}')\n",
    "print(f'Valor p: {p_value}')\n",
    "\n",
    "# Interpretação\n",
    "alpha = 0.05\n",
    "if p_value < alpha:\n",
    "    print('Rejeitamos a hipótese nula. Existem diferenças significativas entre os grupos.')\n",
    "else:\n",
    "    print('Falhamos em rejeitar a hipótese nula. Não há diferenças significativas entre os grupos.')\n"
   ]
  },
  {
   "cell_type": "markdown",
   "metadata": {},
   "source": [
    "#### Hipótese Nula (H₀):\n",
    "\n",
    "---\n",
    "\n",
    "  \n",
    "A hipótese nula é uma suposição inicial que afirma que não há efeito ou diferença entre os grupos ou variáveis que estão sendo analisados.  \n",
    "No contexto do teste ANOVA, H₀ afirma que todas as médias dos grupos são iguais. Ou seja, se estamos comparando o desempenho de três métodos de estudo, a hipótese nula diz que todos os métodos resultam no mesmo desempenho médio.\n",
    "\n",
    "####   \n",
    "Hipótese Alternativa (H₁):\n",
    "\n",
    "---\n",
    "\n",
    "  \n",
    "A hipótese alternativa é o oposto da hipótese nula. Ela sugere que há um efeito ou diferença significativa entre os grupos ou variáveis analisadas.  \n",
    "No caso do teste ANOVA, H₁ afirma que pelo menos uma média é diferente. Ou seja, ao menos um dos métodos de estudo tem um efeito diferente no desempenho."
   ]
  },
  {
   "cell_type": "code",
   "execution_count": 5,
   "metadata": {},
   "outputs": [
    {
     "name": "stdout",
     "output_type": "stream",
     "text": [
      "Estatística F: 42.81132075471694\n",
      "Valor p: 3.449722391346012e-06\n",
      "Rejeitamos a hipótese nula. Existem diferenças significativas entre os grupos.\n"
     ]
    },
    {
     "data": {
      "image/png": "[encoded data removed]",
      "text/plain": [
       "<Figure size 640x480 with 1 Axes>"
      ]
     },
     "metadata": {},
     "output_type": "display_data"
    }
   ],
   "source": [
    "import numpy as np\n",
    "import scipy.stats as stats\n",
    "import matplotlib.pyplot as plt\n",
    "\n",
    "# Gerando dados de exemplo\n",
    "metodo_1 = [85, 87, 89, 85, 88]\n",
    "metodo_2 = [80, 82, 84, 79, 81]\n",
    "metodo_3 = [90, 93, 92, 95, 91]\n",
    "\n",
    "# Realizando o teste ANOVA\n",
    "f_stat, p_value = stats.f_oneway(metodo_1, metodo_2, metodo_3)\n",
    "\n",
    "# Resultado do ANOVA\n",
    "print(f'Estatística F: {f_stat}')\n",
    "print(f'Valor p: {p_value}')\n",
    "\n",
    "# Interpretação\n",
    "alpha = 0.05\n",
    "if p_value < alpha:\n",
    "    print('Rejeitamos a hipótese nula. Existem diferenças significativas entre os grupos.')\n",
    "else:\n",
    "    print('Falhamos em rejeitar a hipótese nula. Não há diferenças significativas entre os grupos.')\n",
    "\n",
    "# Criando o gráfico de boxplot\n",
    "data = [metodo_1, metodo_2, metodo_3]\n",
    "plt.boxplot(data, labels=['Método 1', 'Método 2', 'Método 3'])\n",
    "\n",
    "# Adicionando título e rótulos\n",
    "plt.title('Comparação dos Métodos de Estudo')\n",
    "plt.ylabel('Desempenho')\n",
    "\n",
    "# Mostrando o gráfico\n",
    "plt.show()\n"
   ]
  },
  {
   "cell_type": "code",
   "execution_count": null,
   "metadata": {},
   "outputs": [],
   "source": []
  }
 ],
 "metadata": {
  "kernelspec": {
   "display_name": "Python 3",
   "language": "python",
   "name": "python3"
  },
  "language_info": {
   "codemirror_mode": {
    "name": "ipython",
    "version": 3
   },
   "file_extension": ".py",
   "mimetype": "text/x-python",
   "name": "python",
   "nbconvert_exporter": "python",
   "pygments_lexer": "ipython3",
   "version": "3.11.5"
  }
 },
 "nbformat": 4,
 "nbformat_minor": 2
}
