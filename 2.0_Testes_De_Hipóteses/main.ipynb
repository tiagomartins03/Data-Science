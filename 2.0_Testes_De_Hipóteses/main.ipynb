{
 "cells": [
  {
   "cell_type": "markdown",
   "metadata": {},
   "source": [
    "# Testes de Hipóteses"
   ]
  },
  {
   "cell_type": "markdown",
   "metadata": {},
   "source": [
    " Também chamado de testes de hipóteses e seu proósito é ajudar a descobrir se uma chance aleatória poderia ser responsável por um efeito observado"
   ]
  },
  {
   "cell_type": "markdown",
   "metadata": {},
   "source": [
    "Termos Chave:\n",
    "- Hipótese nula: Hipótese cuja possibilidade é **provada**\n",
    "- Hipótese alternativa: Contrapondo o da nula (o que se espera a provar) \n",
    "- Teste unilateral: Conta as possibilidades em apenas uma direção\n",
    "- Teste Bilateral: Conta as possibilidades em duas direções"
   ]
  },
  {
   "cell_type": "markdown",
   "metadata": {},
   "source": []
  },
  {
   "cell_type": "markdown",
   "metadata": {},
   "source": [
    "# Tipos de testes"
   ]
  },
  {
   "cell_type": "markdown",
   "metadata": {},
   "source": [
    "- **Teste Z** (Para comparar a média de uma amostra com a média de uma população conhecida, especialmente quando o desvio padrão da população é conhecido e o tamanho da amostra é grande (n > 30))\n",
    "- **Teste T de Student** (Uso: Para comparar médias quando o desvio padrão da população é desconhecido e o tamanho da amostra é pequeno (n < 30))\n",
    "- **ANOVA** (Para comparar as médias de três ou mais grupos independentes)\n",
    "- **Teste Qui-Quadrado** (Para testar a associação entre duas variáveis categóricas ou para testar a adequação de uma distribuição observada com uma distribuição esperada)\n",
    "- **Teste F** (Usado para comparar variâncias entre dois ou mais grupos)"
   ]
  },
  {
   "cell_type": "markdown",
   "metadata": {},
   "source": []
  },
  {
   "cell_type": "code",
   "execution_count": 1,
   "metadata": {},
   "outputs": [
    {
     "name": "stdout",
     "output_type": "stream",
     "text": [
      "Estatística Qui-Quadrado: 15.04\n",
      "Valor p: 0.0001\n",
      "Graus de liberdade: 1\n",
      "Tabela Esperada:\n",
      "[[20. 20.]\n",
      " [30. 30.]]\n",
      "Resultado: Existe uma associação significativa entre gênero e preferência de produto.\n"
     ]
    }
   ],
   "source": [
    "import numpy as np\n",
    "import scipy.stats as stats\n",
    "\n",
    "# Dados observados\n",
    "# Tabela de contingência (gênero x preferência de produto)\n",
    "# Linhas: Homens, Mulheres\n",
    "# Colunas: Produto A, Produto B\n",
    "observados = np.array([[30, 10],  # Homens\n",
    "                       [20, 40]]) # Mulheres\n",
    "\n",
    "# Realizando o teste Qui-Quadrado\n",
    "chi2, p, dof, esperados = stats.chi2_contingency(observados)\n",
    "\n",
    "# Exibindo os resultados\n",
    "print(f'Estatística Qui-Quadrado: {chi2:.2f}')\n",
    "print(f'Valor p: {p:.4f}')\n",
    "print(f'Graus de liberdade: {dof}')\n",
    "print('Tabela Esperada:')\n",
    "print(esperados)\n",
    "\n",
    "# Verificar se há associação significativa\n",
    "alpha = 0.05\n",
    "if p < alpha:\n",
    "    print(\"Resultado: Existe uma associação significativa entre gênero e preferência de produto.\")\n",
    "else:\n",
    "    print(\"Resultado: Não há uma associação significativa entre gênero e preferência de produto.\")\n"
   ]
  }
 ],
 "metadata": {
  "kernelspec": {
   "display_name": "Python 3",
   "language": "python",
   "name": "python3"
  },
  "language_info": {
   "codemirror_mode": {
    "name": "ipython",
    "version": 3
   },
   "file_extension": ".py",
   "mimetype": "text/x-python",
   "name": "python",
   "nbconvert_exporter": "python",
   "pygments_lexer": "ipython3",
   "version": "3.11.5"
  }
 },
 "nbformat": 4,
 "nbformat_minor": 2
}
