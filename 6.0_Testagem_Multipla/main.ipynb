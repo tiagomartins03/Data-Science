{
 "cells": [
  {
   "cell_type": "markdown",
   "metadata": {},
   "source": [
    "## Testagem Múltipla \n",
    "\n",
    "---\n",
    "\n",
    "Testagem múltipla refere-se ao problema que surge quando se realizam **múltiplos testes estatísticos simultaneamente**. Cada teste individual tem uma certa probabilidade de produzir um resultado significativo puramente por acaso (tipicamente 5%, se o nível de significância é 0,05). Quando se conduzem muitos testes, a probabilidade de obter pelo **menos um resultado falso positivo aumenta**.\n",
    "\n",
    "Por exemplo, se você realiza 20 testes independentes ao nível de significância de 0,05, a probabilidade de encontrar pelo menos um resultado falso positivo é maior que 0,05, aproximando-se de 64%. Isso pode levar a conclusões errôneas, onde se acredita haver um efeito significativo quando, na verdade, esse efeito não existe.\n",
    "\n",
    "Para corrigir esse problema, várias técnicas podem ser usadas, como:\n",
    "\n",
    "1\\. **Correção de Bonferroni**: Ajusta o nível de significância dividindo-o pelo número de testes realizados, tornando os critérios para significância mais rigorosos.\n",
    "\n",
    "2\\. **Método de Benjamini-Hochberg**: Controla a taxa de descobertas falsas (FDR), o que é menos conservador que a correção de Bonferroni e é frequentemente usado em análises com um grande número de testes.\n",
    "\n",
    "Essas técnicas ajudam a manter o controle sobre a probabilidade de se cometer um erro do Tipo I (falso positivo) em um conjunto de testes."
   ]
  },
  {
   "cell_type": "markdown",
   "metadata": {},
   "source": [
    "# Código\n",
    "\n",
    "---\n",
    "\n"
   ]
  },
  {
   "cell_type": "markdown",
   "metadata": {},
   "source": []
  },
  {
   "cell_type": "code",
   "execution_count": 9,
   "metadata": {},
   "outputs": [
    {
     "name": "stdout",
     "output_type": "stream",
     "text": [
      "Valores p corrigidos (Bonferroni): [1.06483044e-04 3.39740831e-03 2.16432269e-04 8.29563834e-02\n",
      " 5.52755271e-04 1.86756243e-02 8.21210668e-03 4.16228689e-05\n",
      " 3.52715798e-04 2.48325479e-05]\n",
      "Valores p originais 1.0648304427792193e-05\n",
      "Valores p originais 0.0003397408307517217\n",
      "Valores p originais 2.1643226893805664e-05\n",
      "Valores p originais 0.008295638341136098\n",
      "Valores p originais 5.527552706272541e-05\n",
      "Valores p originais 0.0018675624345215595\n",
      "Valores p originais 0.0008212106678371355\n",
      "Valores p originais 4.162286888783517e-06\n",
      "Valores p originais 3.527157980787268e-05\n",
      "Valores p originais 2.4832547882403883e-06\n"
     ]
    }
   ],
   "source": [
    "import numpy as np\n",
    "from scipy.stats import ttest_ind\n",
    "from statsmodels.stats.multitest import multipletests\n",
    "\n",
    "# Gerar dados para duas amostras\n",
    "np.random.seed(42)\n",
    "sample1 = np.random.normal(loc=0, scale=1, size=(100, 10))\n",
    "sample2 = np.random.normal(loc=0.5, scale=1, size=(100, 10))\n",
    "\n",
    "# Realizar os testes t para cada par de colunas\n",
    "p_values = []\n",
    "for i in range(sample1.shape[1]):\n",
    "    _, p_value = ttest_ind(sample1[:, i], sample2[:, i])\n",
    "    p_values.append(p_value)\n",
    "\n",
    "# Aplicar a correção de Bonferroni para os valores p\n",
    "corrected_p_values = multipletests(p_values, alpha=0.05, method='bonferroni')[1]\n",
    "\n",
    "# Exibir os resultadosprint(\"Valores p originais:\", p_values)\n",
    "print(\"Valores p corrigidos (Bonferroni):\", corrected_p_values)\n",
    "for p in p_values:\n",
    "    print('Valores p originais',p)"
   ]
  },
  {
   "cell_type": "code",
   "execution_count": 6,
   "metadata": {},
   "outputs": [
    {
     "name": "stdout",
     "output_type": "stream",
     "text": [
      "Teste 1: Significativo (p = 0.00010648304427792192)\n",
      "Teste 2: Significativo (p = 0.0033974083075172168)\n",
      "Teste 3: Significativo (p = 0.00021643226893805663)\n",
      "Teste 4: Não Significativo (p = 0.08295638341136098)\n",
      "Teste 5: Significativo (p = 0.000552755270627254)\n",
      "Teste 6: Significativo (p = 0.018675624345215594)\n",
      "Teste 7: Significativo (p = 0.008212106678371354)\n",
      "Teste 8: Significativo (p = 4.162286888783517e-05)\n",
      "Teste 9: Significativo (p = 0.00035271579807872683)\n",
      "Teste 10: Significativo (p = 2.4832547882403883e-05)\n"
     ]
    }
   ],
   "source": [
    "for i, p_value in enumerate(corrected_p_values):\n",
    "    if p_value <= 0.05:\n",
    "        print(f\"Teste {i+1}: Significativo (p = {p_value})\")\n",
    "    else:\n",
    "        print(f\"Teste {i+1}: Não Significativo (p = {p_value})\")\n"
   ]
  },
  {
   "cell_type": "code",
   "execution_count": null,
   "metadata": {},
   "outputs": [],
   "source": []
  }
 ],
 "metadata": {
  "kernelspec": {
   "display_name": "Python 3",
   "language": "python",
   "name": "python3"
  },
  "language_info": {
   "codemirror_mode": {
    "name": "ipython",
    "version": 3
   },
   "file_extension": ".py",
   "mimetype": "text/x-python",
   "name": "python",
   "nbconvert_exporter": "python",
   "pygments_lexer": "ipython3",
   "version": "3.11.5"
  }
 },
 "nbformat": 4,
 "nbformat_minor": 2
}
