{
 "cells": [
  {
   "cell_type": "markdown",
   "metadata": {},
   "source": [
    "## Estatística F\n",
    "\n",
    "---\n",
    "\n",
    "A estatística F se baseia na relação da variância entre as médias dos grupos (ou seja, o efeito do tratamento) com a variância devido ao erro residual. Quanto maior essa rejeição, mais estatisticamente significativo é o resultado."
   ]
  },
  {
   "cell_type": "code",
   "execution_count": 1,
   "metadata": {},
   "outputs": [
    {
     "name": "stdout",
     "output_type": "stream",
     "text": [
      "Estatística F: 0.8648648648648648\n",
      "Valor p: 0.4457473006827818\n",
      "Falhamos em rejeitar a hipótese nula. As variâncias não são significativamente diferentes.\n"
     ]
    }
   ],
   "source": [
    "import numpy as np\n",
    "import scipy.stats as stats\n",
    "\n",
    "# Gerando dados de exemplo\n",
    "# Suponha que temos dois grupos de alunos que usaram diferentes métodos de estudo\n",
    "metodo_1 = [85, 87, 89, 85, 88]\n",
    "metodo_2 = [80, 82, 84, 79, 81]\n",
    "\n",
    "# Calculando as variâncias de cada grupo\n",
    "var_metodo_1 = np.var(metodo_1, ddof=1)  # Variância amostral\n",
    "var_metodo_2 = np.var(metodo_2, ddof=1)  # Variância amostral\n",
    "\n",
    "# Estatística F\n",
    "f_stat = var_metodo_1 / var_metodo_2\n",
    "\n",
    "# Graus de liberdade para cada grupo\n",
    "df1 = len(metodo_1) - 1\n",
    "df2 = len(metodo_2) - 1\n",
    "\n",
    "# Valor p para o teste F\n",
    "p_value = stats.f.cdf(f_stat, df1, df2)\n",
    "\n",
    "# Resultados\n",
    "print(f'Estatística F: {f_stat}')\n",
    "print(f'Valor p: {p_value}')\n",
    "\n",
    "# Interpretação\n",
    "alpha = 0.05\n",
    "if p_value < alpha:\n",
    "    print('Rejeitamos a hipótese nula. As variâncias são significativamente diferentes.')\n",
    "else:\n",
    "    print('Falhamos em rejeitar a hipótese nula. As variâncias não são significativamente diferentes.')\n"
   ]
  },
  {
   "cell_type": "markdown",
   "metadata": {},
   "source": [
    "1.  **Hipótese Nula (H₀)**: As variâncias dos dois grupos são iguais.\n",
    "2.  **Hipótese Alternativa (H₁)**: As variâncias dos dois grupos são diferentes.\n",
    "3.  **Estatística F**: Calcula-se a razão entre as variâncias de dois grupos. Quanto maior for a razão, maior a chance de as variâncias serem diferentes.\n",
    "4.  **Graus de Liberdade (df1 e df2)**: São baseados no tamanho das amostras de cada grupo.\n",
    "5.  **Valor p**: Usado para determinar se a diferença nas variâncias é estatisticamente significativa.\n",
    "\n",
    "### Interpretação:\n",
    "\n",
    "*   Se o valor p for menor que o nível de significância (α=0.05\\\\alpha = 0.05α=0.05), rejeitamos H₀, indicando que as variâncias dos dois métodos são significativamente diferentes.\n",
    "*   Caso contrário, falhamos em rejeitar H₀, indicando que as variâncias são estatisticamente equivalentes.\n",
    "\n",
    "Esse teste é útil quando você quer saber se a dispersão dos dados em dois grupos é diferente, como no caso de métodos de estudo que podem causar maior ou menor variabilidade no desempenho dos alunos."
   ]
  },
  {
   "cell_type": "markdown",
   "metadata": {},
   "source": []
  }
 ],
 "metadata": {
  "kernelspec": {
   "display_name": "Python 3",
   "language": "python",
   "name": "python3"
  },
  "language_info": {
   "codemirror_mode": {
    "name": "ipython",
    "version": 3
   },
   "file_extension": ".py",
   "mimetype": "text/x-python",
   "name": "python",
   "nbconvert_exporter": "python",
   "pygments_lexer": "ipython3",
   "version": "3.11.5"
  }
 },
 "nbformat": 4,
 "nbformat_minor": 2
}
