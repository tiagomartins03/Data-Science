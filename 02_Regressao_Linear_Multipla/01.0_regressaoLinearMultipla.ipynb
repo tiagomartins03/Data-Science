{
 "cells": [
  {
   "cell_type": "markdown",
   "metadata": {},
   "source": [
    "## Regressão Linear Múltipla\n",
    "\n",
    "---\n",
    "\n",
    "Quando existem múltiplas preditoras, a equação simplesmente se estende para acomodá-las:\n",
    "\n",
    "Y=b0+b1X1+b2X2+…+bpXp+e\n",
    "\n",
    "Em vez de uma linha, agora temos um modelo linear - o relacionamento entre cada coeficiente e sua variável (característica) é linear. \n",
    "\n",
    "### **Termos chave para Regressão Linear Múltipla**\n",
    "\n",
    "\n",
    "<table><tbody><tr><td>Métrica</td><td>Descrição</td><td>Sigla</td></tr><tr><td>Raiz quadrada do Erro Quadrático Médio&nbsp;</td><td>A raiz quadrada do erro quadrático médio da regressão (esta é a métrica mais usada para comparar modelos de. regressão)</td><td>RMSE</td></tr><tr><td>Erro-padrão residual</td><td>O mesmo que a raiz quadrada do erro quadrático médio, mas ajustada para graus de liberdade.</td><td>RSE</td></tr><tr><td>R-Quadrado</td><td>A proporção de variância explicada pelo modelo, de 0 a 1.</td><td>R2</td></tr><tr><td>Estatística T</td><td>O coeficiente para um preditor, dividido pelo erro-padrão do coeficiente, fornecendo uma métrica para comparar a importância das variáveis do modelo.</td><td>&nbsp;</td></tr><tr><td>Regressão ponderada</td><td>A regressão com os registros tendo pesos diferentes.&nbsp;</td><td>&nbsp;</td></tr><tr><td>Erro Médio Absoluto&nbsp;</td><td>O erro médio absoluto é a média dos valores absolutos dos resíduos. Ele dá uma ideia do erro médio em termos absolutos:</td><td>MAE</td></tr><tr><td>Erro Quadrático Médio&nbsp;</td><td>O erro quadrático médio calcula a média dos quadrados dos resíduos:</td><td>MSE</td></tr></tbody></table>"
   ]
  },
  {
   "cell_type": "markdown",
   "metadata": {},
   "source": []
  }
 ],
 "metadata": {
  "kernelspec": {
   "display_name": "Python 3",
   "language": "python",
   "name": "python3"
  },
  "language_info": {
   "codemirror_mode": {
    "name": "ipython",
    "version": 3
   },
   "file_extension": ".py",
   "mimetype": "text/x-python",
   "name": "python",
   "nbconvert_exporter": "python",
   "pygments_lexer": "ipython3",
   "version": "3.11.5"
  }
 },
 "nbformat": 4,
 "nbformat_minor": 2
}
