{
 "cells": [
  {
   "cell_type": "markdown",
   "metadata": {},
   "source": [
    "# Validação Cruzada\n",
    "\n",
    "A validação cruzada é uma técnica estatística utilizada para avaliar a capacidade de generalização de um modelo, testando sua performance em diferentes subconjuntos dos dados disponíveis. Ela é especialmente útil para evitar o sobreajuste (overfitting), onde o modelo pode se ajustar muito bem aos dados de treino, mas falhar em novos dados.\n",
    "\n",
    "O processo básico de validação cruzada envolve dividir o conjunto de dados em várias partes (ou \"folds\"). Um dos folds é usado para teste e os outros para treino, repetindo esse processo até que cada fold tenha sido usado para teste pelo menos uma vez. Uma forma comum é a validação cruzada k-fold, onde os dados são divididos em k partes."
   ]
  },
  {
   "cell_type": "markdown",
   "metadata": {},
   "source": [
    "---"
   ]
  },
  {
   "cell_type": "markdown",
   "metadata": {},
   "source": [
    "1.   Reserve 1/k dos dados como amostra de retenção\n",
    "2.  Treine o modelo nos dados restantes\n",
    "3.  Aplique (score) o modelo na retenção de 1/k e registre as métricas de avaliação de modelo necessárias\n",
    "4.  Recoloque os primeiros 1/k dos dados e reserve os 1/k seguintes (excluindo quaisquer registros que foram escolhidos na primeira vez).\n",
    "5.  Repita os Passos 2 e 3\n",
    "6.  Repita até que cada registro tenha sido usado na porção de retenção\n",
    "7.  Tire a média ou combine as métricas de avaliação do modelo de outra forma"
   ]
  },
  {
   "cell_type": "markdown",
   "metadata": {},
   "source": []
  },
  {
   "cell_type": "code",
   "execution_count": 1,
   "metadata": {},
   "outputs": [
    {
     "name": "stdout",
     "output_type": "stream",
     "text": [
      "Métricas MSE por fold: [0.01157440456183233, 0.01124906299741324, 0.02180484908891489, 0.012324359716754692, 0.018219663607258102]\n",
      "Média das métricas MSE: 0.01503446799443465\n"
     ]
    }
   ],
   "source": [
    "from sklearn.model_selection import KFold\n",
    "from sklearn.linear_model import LinearRegression\n",
    "from sklearn.metrics import mean_squared_error\n",
    "from sklearn.datasets import make_regression\n",
    "import numpy as np\n",
    "\n",
    "# Gerar um conjunto de dados sintético\n",
    "X, y = make_regression(n_samples=100, n_features=2, noise=0.1)\n",
    "\n",
    "# Definir o modelo\n",
    "model = LinearRegression()\n",
    "\n",
    "# Definir o número de folds\n",
    "k = 5\n",
    "kf = KFold(n_splits=k)\n",
    "\n",
    "# Lista para armazenar as métricas de avaliação\n",
    "mse_scores = []\n",
    "\n",
    "# Loop pelos k folds\n",
    "for train_index, test_index in kf.split(X):\n",
    "    # Separar dados de treino e teste\n",
    "    X_train, X_test = X[train_index], X[test_index]\n",
    "    y_train, y_test = y[train_index], y[test_index]\n",
    "    \n",
    "    # Treinar o modelo nos dados de treino\n",
    "    model.fit(X_train, y_train)\n",
    "    \n",
    "    # Fazer previsões nos dados de teste (retenção)\n",
    "    y_pred = model.predict(X_test)\n",
    "    \n",
    "    # Calcular e registrar a métrica (MSE - Mean Squared Error)\n",
    "    mse = mean_squared_error(y_test, y_pred)\n",
    "    mse_scores.append(mse)\n",
    "\n",
    "# Calcular a média dos erros quadráticos médios\n",
    "mean_mse = np.mean(mse_scores)\n",
    "\n",
    "# Exibir o resultado\n",
    "print(f\"Métricas MSE por fold: {mse_scores}\")\n",
    "print(f\"Média das métricas MSE: {mean_mse}\")\n"
   ]
  },
  {
   "cell_type": "code",
   "execution_count": null,
   "metadata": {},
   "outputs": [],
   "source": []
  }
 ],
 "metadata": {
  "kernelspec": {
   "display_name": "Python 3",
   "language": "python",
   "name": "python3"
  },
  "language_info": {
   "codemirror_mode": {
    "name": "ipython",
    "version": 3
   },
   "file_extension": ".py",
   "mimetype": "text/x-python",
   "name": "python",
   "nbconvert_exporter": "python",
   "pygments_lexer": "ipython3",
   "version": "3.11.5"
  }
 },
 "nbformat": 4,
 "nbformat_minor": 2
}
