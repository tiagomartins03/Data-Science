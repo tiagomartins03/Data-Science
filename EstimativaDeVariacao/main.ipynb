{
 "cells": [
  {
   "cell_type": "markdown",
   "metadata": {},
   "source": [
    "# Libraries"
   ]
  },
  {
   "cell_type": "code",
   "execution_count": 10,
   "metadata": {},
   "outputs": [],
   "source": [
    "import numpy as np  \n",
    "import pandas as pd"
   ]
  },
  {
   "cell_type": "markdown",
   "metadata": {},
   "source": [
    "# Estimativas de Variabilidade"
   ]
  },
  {
   "cell_type": "code",
   "execution_count": 1,
   "metadata": {},
   "outputs": [],
   "source": [
    "# Mais conhecida como dispersão. Mede se os dados estão compactados ou espalhados.\n",
    "# A variabilidade fica no centro da estatística: medindo, reduzindo, distinguindo variabilidade aleatório de real, identificando as diversas fontes de variabilidade real e tomando decisões em sua presença."
   ]
  },
  {
   "cell_type": "markdown",
   "metadata": {},
   "source": [
    "## Desvios"
   ]
  },
  {
   "cell_type": "code",
   "execution_count": 2,
   "metadata": {},
   "outputs": [],
   "source": [
    "# A diferença entre os valores observados e a estimativa de localização. "
   ]
  },
  {
   "cell_type": "markdown",
   "metadata": {},
   "source": [
    "## Variância"
   ]
  },
  {
   "cell_type": "code",
   "execution_count": 5,
   "metadata": {},
   "outputs": [],
   "source": [
    "# A soma dos quadrados dos desvios da média, divididos por n-1, em que n é o número de valores de dados.\n",
    "#Sinônimo: Erro médio quadrático\n",
    "\n",
    "#Mede a distância de cada elemento no connjunto de dados com a média"
   ]
  },
  {
   "cell_type": "markdown",
   "metadata": {},
   "source": [
    "## Desvio Padrão"
   ]
  },
  {
   "cell_type": "code",
   "execution_count": 6,
   "metadata": {},
   "outputs": [],
   "source": [
    "# A raiz quadrada da variância\n",
    "\n",
    "#Mede a distância total do conjunto de dados até a média"
   ]
  },
  {
   "cell_type": "code",
   "execution_count": 19,
   "metadata": {},
   "outputs": [
    {
     "name": "stdout",
     "output_type": "stream",
     "text": [
      "   Elemento  Desvio\n",
      "0        10    -8.0\n",
      "1        12    -6.0\n",
      "2        23     5.0\n",
      "3        23     5.0\n",
      "4        16    -2.0\n",
      "5        23     5.0\n",
      "6        21     3.0\n",
      "7        16    -2.0\n",
      "Variância dos Desvios: 24.0\n",
      "Desvio Padrão da Variância dos Desvios: 4.898979485566356\n"
     ]
    }
   ],
   "source": [
    "# Dados de exemplo\n",
    "dados = [10, 12, 23, 23, 16, 23, 21, 16]\n",
    "\n",
    "# Calculando a média\n",
    "media = np.mean(dados)\n",
    "\n",
    "# Calculando os desvios de cada elemento\n",
    "desvios = [x - media for x in dados]\n",
    "\n",
    "# Criando um DataFrame para a tabela\n",
    "tabela = pd.DataFrame({\n",
    "    'Elemento': dados,\n",
    "    'Desvio': desvios\n",
    "})\n",
    "\n",
    "# Calculando a variância dos desvios\n",
    "variancia_desvios = np.var(tabela['Desvio'])\n",
    "\n",
    "# Calculando o desvio padrão da variância dos desvios\n",
    "desvio_padrao_variancia_desvios = np.sqrt(variancia_desvios)\n",
    "\n",
    "print(tabela)\n",
    "print(f\"Variância dos Desvios: {variancia_desvios}\")\n",
    "print(f\"Desvio Padrão da Variância dos Desvios: {desvio_padrao_variancia_desvios}\")\n"
   ]
  },
  {
   "cell_type": "markdown",
   "metadata": {},
   "source": [
    "# Desvio Absoluto Médio"
   ]
  },
  {
   "cell_type": "code",
   "execution_count": 2,
   "metadata": {},
   "outputs": [],
   "source": [
    "# A média do valor absoluto dos desvios da média\n",
    "# É uma medida de dispersão que quantifica a variação ou a dispersão de um conjunto de valores em relação à média"
   ]
  },
  {
   "cell_type": "markdown",
   "metadata": {},
   "source": [
    "### Comparação:\n",
    "\n",
    "**Desvio Absoluto Médio:**\n",
    "\n",
    "- Usa valores absolutos.  \n",
    "- Menos sensível a outliers.  \n",
    "- Mais simples de interpretar.  \n",
    "\n",
    "**Desvio Padrão:**\n",
    "\n",
    "- Usa quadrados das diferenças.  \n",
    "- Mais sensível a outliers.  \n",
    "- Fornece uma medida de dispersão que pode ser mais informativa em dados com alta variabilidade.\n",
    "\n",
    "\n",
    "**Desvio Absoluto Mediano da Mediana:**\n",
    "- Usa a mediana dos desvios absolutos\n",
    "- Menos sensível a outliers do que o desvio padrão e o DAM, por ser baseado na mediana.\n",
    "- Medida robusta de dispersão que é especialmente útil para dados com outliers ou distribuições assimétricas."
   ]
  },
  {
   "cell_type": "code",
   "execution_count": 8,
   "metadata": {},
   "outputs": [
    {
     "name": "stdout",
     "output_type": "stream",
     "text": [
      "18.0\n",
      "   Elemento  Desvio Absoluto\n",
      "0        10              8.0\n",
      "1        12              6.0\n",
      "2        23              5.0\n",
      "3        23              5.0\n",
      "4        16              2.0\n",
      "5        23              5.0\n",
      "6        21              3.0\n",
      "7        16              2.0\n",
      "Desvio Absoluto Médio: 4.5\n"
     ]
    }
   ],
   "source": [
    "\n",
    "# Dados de exemplo\n",
    "dados = [10, 12, 23, 23, 16, 23, 21, 16]\n",
    "\n",
    "# Calculando a média\n",
    "media = np.mean(dados)\n",
    "\n",
    "# Calculando os desvios absolutos de cada elemento\n",
    "desvios_absolutos = [abs(x - media) for x in dados]\n",
    "\n",
    "# Criando um DataFrame para a tabela\n",
    "tabela = pd.DataFrame({\n",
    "    'Elemento': dados,\n",
    "    'Desvio Absoluto': desvios_absolutos\n",
    "})\n",
    "\n",
    "# Calculando o Desvio Absoluto Médio\n",
    "desvio_absoluto_medio = np.mean(desvios_absolutos)\n",
    "\n",
    "print(media)\n",
    "print(tabela)\n",
    "print(f\"Desvio Absoluto Médio: {desvio_absoluto_medio}\")\n"
   ]
  },
  {
   "cell_type": "markdown",
   "metadata": {},
   "source": [
    "# Desvio Absoluto Mediano da mediana"
   ]
  },
  {
   "cell_type": "markdown",
   "metadata": {},
   "source": []
  },
  {
   "cell_type": "code",
   "execution_count": 6,
   "metadata": {},
   "outputs": [],
   "source": [
    "# A mediana do valor absoluto dos desvios da mediana\n",
    "#É uma medida robusta de dispersão que é similar ao Desvio Absoluto da Mediana, mas em vez de calcular a mediana dos desvios absolutos, ela calcula a mediana dos desvios absolutos em relação à mediana dos dados."
   ]
  },
  {
   "cell_type": "code",
   "execution_count": 7,
   "metadata": {},
   "outputs": [
    {
     "name": "stdout",
     "output_type": "stream",
     "text": [
      "Mediana: 18.5\n",
      "   Elemento  Desvio Absoluto\n",
      "0        10              8.5\n",
      "1        12              6.5\n",
      "2        23              4.5\n",
      "3        23              4.5\n",
      "4        16              2.5\n",
      "5        23              4.5\n",
      "6        21              2.5\n",
      "7        16              2.5\n",
      "Desvio Absoluto Mediano da Mediana: 4.5\n"
     ]
    }
   ],
   "source": [
    "# Dados de exemplo\n",
    "dados = [10, 12, 23, 23, 16, 23, 21, 16]\n",
    "\n",
    "# Calculando a mediana\n",
    "mediana = np.median(dados)\n",
    "\n",
    "# Calculando os desvios absolutos em relação à mediana\n",
    "desvios_absolutos = [abs(x - mediana) for x in dados]\n",
    "\n",
    "# Criando um DataFrame para a tabela\n",
    "tabela = pd.DataFrame({\n",
    "    'Elemento': dados,\n",
    "    'Desvio Absoluto': desvios_absolutos\n",
    "})\n",
    "\n",
    "# Calculando o Desvio Absoluto Mediano da Mediana\n",
    "desvio_absoluto_mediano = np.median(desvios_absolutos)\n",
    "\n",
    "print(f\"Mediana: {mediana}\")\n",
    "print(tabela)\n",
    "print(f\"Desvio Absoluto Mediano da Mediana: {desvio_absoluto_mediano}\")\n"
   ]
  }
 ],
 "metadata": {
  "kernelspec": {
   "display_name": "Python 3",
   "language": "python",
   "name": "python3"
  },
  "language_info": {
   "codemirror_mode": {
    "name": "ipython",
    "version": 3
   },
   "file_extension": ".py",
   "mimetype": "text/x-python",
   "name": "python",
   "nbconvert_exporter": "python",
   "pygments_lexer": "ipython3",
   "version": "3.11.5"
  }
 },
 "nbformat": 4,
 "nbformat_minor": 2
}
