{
 "cells": [
  {
   "cell_type": "markdown",
   "metadata": {},
   "source": [
    "### O que é Potência Amostral?\n",
    "\n",
    "A **potência amostral** refere-se à probabilidade de um teste estatístico detectar corretamente um efeito verdadeiro, ou seja, rejeitar a hipótese nula quando ela é falsa. Em termos mais simples, ela mede a capacidade do teste de evitar um **erro tipo II** (não rejeitar a hipótese nula quando deveria).\n",
    "\n",
    "A fórmula é:\n",
    "\n",
    "$$\n",
    "\\text{Potência} = 1 - \\beta\n",
    "$$\n",
    "\n",
    "Onde:\n",
    "- \\( \\beta \\) é a probabilidade de cometer um erro tipo II.\n",
    "\n",
    "### Por que é importante?\n",
    "Em um ambiente de DevOps que lida com automação de testes, monitoramento e análises contínuas, garantir uma **alta potência amostral** (tipicamente 80% ou mais) ajuda a:\n",
    "1. Detectar rapidamente falhas reais ou problemas de performance.\n",
    "2. Reduzir a chance de falsos negativos, que podem ocorrer quando problemas são ignorados erroneamente.\n",
    "3. Melhorar a confiabilidade de métricas e relatórios de desempenho.\n",
    "\n",
    "### Como aumentar a potência amostral?\n",
    "1. **Aumentar o tamanho da amostra**: Testar mais dados ou eventos.\n",
    "2. **Ajustar o nível de significância (\\( \\alpha \\))**: Balancear a relação entre erros tipo I (falsos positivos) e tipo II.\n",
    "3. **Aumentar o tamanho do efeito**: Buscar detectar problemas mais críticos ou com maior impacto.\n",
    "\n",
    "Em pipelines de CI/CD e monitoramento de alta frequência, garantir que seus testes estatísticos tenham uma potência adequada ajuda a manter a qualidade e a eficiência.\n"
   ]
  },
  {
   "cell_type": "markdown",
   "metadata": {},
   "source": []
  },
  {
   "cell_type": "code",
   "execution_count": 1,
   "metadata": {},
   "outputs": [
    {
     "name": "stdout",
     "output_type": "stream",
     "text": [
      "Tamanho mínimo da amostra necessária: 64.0\n"
     ]
    }
   ],
   "source": [
    "import numpy as np\n",
    "from statsmodels.stats.power import TTestIndPower\n",
    "\n",
    "# Definir os parâmetros do teste\n",
    "effect_size = 0.5  # Tamanho do efeito esperado (diferença padronizada entre os dois grupos)\n",
    "alpha = 0.05       # Nível de significância (5%)\n",
    "power = 0.80       # Potência desejada (80%)\n",
    "\n",
    "# Inicializar a classe para calcular o tamanho da amostra\n",
    "analysis = TTestIndPower()\n",
    "\n",
    "# Calcular o tamanho necessário da amostra\n",
    "sample_size = analysis.solve_power(effect_size=effect_size, alpha=alpha, power=power)\n",
    "\n",
    "# Exibir o tamanho da amostra\n",
    "print(f'Tamanho mínimo da amostra necessária: {np.ceil(sample_size)}')\n"
   ]
  },
  {
   "cell_type": "code",
   "execution_count": null,
   "metadata": {},
   "outputs": [],
   "source": []
  }
 ],
 "metadata": {
  "kernelspec": {
   "display_name": "Python 3",
   "language": "python",
   "name": "python3"
  },
  "language_info": {
   "codemirror_mode": {
    "name": "ipython",
    "version": 3
   },
   "file_extension": ".py",
   "mimetype": "text/x-python",
   "name": "python",
   "nbconvert_exporter": "python",
   "pygments_lexer": "ipython3",
   "version": "3.11.5"
  }
 },
 "nbformat": 4,
 "nbformat_minor": 2
}
