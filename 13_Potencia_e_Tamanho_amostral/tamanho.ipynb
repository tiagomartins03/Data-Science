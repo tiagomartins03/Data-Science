{
 "cells": [
  {
   "cell_type": "markdown",
   "metadata": {},
   "source": [
    "# Tamanho Amostral\n",
    "---\n",
    "\n",
    "O **tamanho amostral** refere-se ao número de observações ou elementos coletados em uma amostra de uma população maior. Esse conceito é essencial em estatística para garantir que a amostra seja suficientemente representativa da população, permitindo estimativas precisas e confiáveis.\n",
    "\n",
    "## Fórmula para Cálculo do Tamanho Amostral\n",
    "\n",
    "Para estimar o tamanho de uma amostra em pesquisas ou experimentos, utiliza-se a seguinte fórmula básica, especialmente em pesquisas com variáveis categóricas:\n",
    "\n",
    "$$\n",
    "n = \\frac{Z^2 \\cdot p \\cdot (1 - p)}{E^2}\n",
    "$$\n",
    "\n",
    "Onde:\n",
    "- **n**: Tamanho da amostra\n",
    "- **Z**: Valor crítico correspondente ao nível de confiança desejado (por exemplo, 1.96 para 95%)\n",
    "- **p**: Proporção esperada (se não souber, usa-se 0.5, que é conservador)\n",
    "- **E**: Margem de erro (a precisão desejada para os resultados)\n",
    "\n",
    "Essa fórmula pode variar de acordo com o tipo de estudo e a natureza dos dados, mas é a base para muitos cálculos de tamanho amostral.\n"
   ]
  },
  {
   "cell_type": "markdown",
   "metadata": {},
   "source": []
  },
  {
   "cell_type": "code",
   "execution_count": 1,
   "metadata": {},
   "outputs": [
    {
     "name": "stdout",
     "output_type": "stream",
     "text": [
      "Tamanho amostral necessário: 385\n"
     ]
    }
   ],
   "source": [
    "import math\n",
    "\n",
    "def calcular_tamanho_amostral(z, p, e):\n",
    "    \"\"\"\n",
    "    Calcula o tamanho amostral para uma proporção categórica.\n",
    "    \n",
    "    Parâmetros:\n",
    "    z (float): Valor crítico (por exemplo, 1.96 para 95% de confiança)\n",
    "    p (float): Proporção esperada (por exemplo, 0.5)\n",
    "    e (float): Margem de erro (por exemplo, 0.05)\n",
    "    \n",
    "    Retorna:\n",
    "    int: Tamanho amostral necessário.\n",
    "    \"\"\"\n",
    "    # Calcula o tamanho amostral\n",
    "    n = (z**2 * p * (1 - p)) / (e**2)\n",
    "    return math.ceil(n)  # Arredonda para o próximo número inteiro\n",
    "\n",
    "# Parâmetros\n",
    "z = 1.96  # 95% de confiança\n",
    "p = 0.5   # Proporção esperada\n",
    "e = 0.05  # Margem de erro de 5%\n",
    "\n",
    "# Calculando o tamanho amostral\n",
    "tamanho_amostral = calcular_tamanho_amostral(z, p, e)\n",
    "print(f\"Tamanho amostral necessário: {tamanho_amostral}\")\n"
   ]
  },
  {
   "cell_type": "code",
   "execution_count": null,
   "metadata": {},
   "outputs": [],
   "source": []
  }
 ],
 "metadata": {
  "kernelspec": {
   "display_name": "Python 3",
   "language": "python",
   "name": "python3"
  },
  "language_info": {
   "codemirror_mode": {
    "name": "ipython",
    "version": 3
   },
   "file_extension": ".py",
   "mimetype": "text/x-python",
   "name": "python",
   "nbconvert_exporter": "python",
   "pygments_lexer": "ipython3",
   "version": "3.11.5"
  }
 },
 "nbformat": 4,
 "nbformat_minor": 2
}
