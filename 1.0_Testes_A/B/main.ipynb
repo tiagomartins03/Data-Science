{
 "cells": [
  {
   "cell_type": "markdown",
   "metadata": {},
   "source": [
    "# Testagem A/B"
   ]
  },
  {
   "cell_type": "markdown",
   "metadata": {},
   "source": [
    "Um teste A/B é um experimento com dois grupos para determinar qual dos dois tratamentos, produtos ou procedimentos ou semelhantes é o superior. Geralmente, um dos dois tratamentos é o tratamento-padrão existente, ou nenhum trataamento. Se um tratramento-parão (ou nenhum) for usado, este será chamado de controle. Um hipótese típica é a de que o tramaneto seja melhor que o contole. "
   ]
  },
  {
   "cell_type": "markdown",
   "metadata": {},
   "source": [
    "## Termos chave"
   ]
  },
  {
   "cell_type": "markdown",
   "metadata": {},
   "source": [
    "- Tratamento: Algo (droga, preço, título de site) ao qual um indivíduo é exposto.\n",
    "- Grupo de tratamento: Um grupo de indivíduos expostos a um tratamento expecífico\n",
    "- Grupo de controle: Um grupo de indivíduos expostos a nenhum tratamento (ou padrão)\n",
    "- Randomização: O processo de atribuir aleatoriamente indivíduos a tratamentos\n",
    "- Indivíduos: Os itens (visitantes de um site, pacientes etc.) que são expostos aos tratamentos.\n",
    "- Estatística de teste: A métrica usada para medir o efeito do tratamento. "
   ]
  }
 ],
 "metadata": {
  "language_info": {
   "name": "python"
  }
 },
 "nbformat": 4,
 "nbformat_minor": 2
}
