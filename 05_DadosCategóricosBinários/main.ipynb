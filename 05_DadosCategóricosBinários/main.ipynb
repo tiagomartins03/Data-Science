{
 "cells": [
  {
   "cell_type": "markdown",
   "metadata": {},
   "source": [
    "# Moda"
   ]
  },
  {
   "cell_type": "code",
   "execution_count": 1,
   "metadata": {},
   "outputs": [],
   "source": [
    "# A categoria ou valor de maior ocorrência em um conjunto de dados"
   ]
  },
  {
   "cell_type": "code",
   "execution_count": 2,
   "metadata": {},
   "outputs": [
    {
     "name": "stdout",
     "output_type": "stream",
     "text": [
      "A(s) moda(s) da lista é(são): [4]\n"
     ]
    }
   ],
   "source": [
    "from collections import Counter\n",
    "\n",
    "def calcular_moda(lista):\n",
    "    # Contar a frequência de cada elemento na lista\n",
    "    contagem = Counter(lista)\n",
    "    \n",
    "    # Encontrar a(s) moda(s) - o(s) elemento(s) com a maior frequência\n",
    "    max_frequencia = max(contagem.values())\n",
    "    modas = [num for num, freq in contagem.items() if freq == max_frequencia]\n",
    "    \n",
    "    return modas\n",
    "\n",
    "# Exemplo de uso\n",
    "lista_numeros = [1, 2, 2, 3, 3, 3, 4, 4, 4, 4, 5, 6]\n",
    "modas = calcular_moda(lista_numeros)\n",
    "print(\"A(s) moda(s) da lista é(são):\", modas)\n"
   ]
  },
  {
   "cell_type": "markdown",
   "metadata": {},
   "source": [
    "# Valor experado"
   ]
  },
  {
   "cell_type": "code",
   "execution_count": 3,
   "metadata": {},
   "outputs": [],
   "source": [
    "# Quando as categorias podem ser associadas a um valor numérico, isso nos dá um valor médio com base na probabilidade de ocorrência de uma categoria"
   ]
  },
  {
   "cell_type": "code",
   "execution_count": 4,
   "metadata": {},
   "outputs": [
    {
     "name": "stdout",
     "output_type": "stream",
     "text": [
      "O valor esperado é: 32.0\n"
     ]
    }
   ],
   "source": [
    "def calcular_valor_esperado(valores, probabilidades):\n",
    "    # Verificar se as listas de valores e probabilidades têm o mesmo comprimento\n",
    "    if len(valores) != len(probabilidades):\n",
    "        raise ValueError(\"As listas de valores e probabilidades devem ter o mesmo comprimento.\")\n",
    "    \n",
    "    # Verificar se a soma das probabilidades é igual a 1\n",
    "    if not abs(sum(probabilidades) - 1) < 1e-6:\n",
    "        raise ValueError(\"A soma das probabilidades deve ser igual a 1.\")\n",
    "    \n",
    "    # Calcular o valor esperado\n",
    "    valor_esperado = sum(valor * probabilidade for valor, probabilidade in zip(valores, probabilidades))\n",
    "    \n",
    "    return valor_esperado\n",
    "\n",
    "# Exemplo de uso\n",
    "valores = [10, 20, 30, 40, 50]\n",
    "probabilidades = [0.1, 0.2, 0.3, 0.2, 0.2]\n",
    "\n",
    "valor_esperado = calcular_valor_esperado(valores, probabilidades)\n",
    "print(\"O valor esperado é:\", valor_esperado)\n"
   ]
  }
 ],
 "metadata": {
  "kernelspec": {
   "display_name": "Python 3",
   "language": "python",
   "name": "python3"
  },
  "language_info": {
   "codemirror_mode": {
    "name": "ipython",
    "version": 3
   },
   "file_extension": ".py",
   "mimetype": "text/x-python",
   "name": "python",
   "nbconvert_exporter": "python",
   "pygments_lexer": "ipython3",
   "version": "3.11.5"
  }
 },
 "nbformat": 4,
 "nbformat_minor": 2
}
