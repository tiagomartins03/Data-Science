{
 "cells": [
  {
   "cell_type": "markdown",
   "metadata": {},
   "source": [
    "# Teste Qui-Qudrático\n",
    "---"
   ]
  },
  {
   "cell_type": "markdown",
   "metadata": {},
   "source": [
    "O teste Qui-Quadrado (ou teste do Chi-quadrado) é um teste estatístico utilizado para determinar se há uma associação significativa entre variáveis categóricas. Ele compara as frequências observadas em uma amostra com as frequências esperadas sob a hipótese nula (que assume que não há associação entre as variáveis).\n",
    "\n",
    "Existem dois tipos principais de testes Qui-Quadrado:\n",
    "\n",
    "Teste de independência: Verifica se duas variáveis categóricas são independentes. Exemplo: se o gênero e a preferência por um determinado produto estão associados.\n",
    "\n",
    "Teste de aderência (ou bondade de ajuste): Avalia se as frequências observadas de uma variável categórica seguem uma distribuição esperada. Exemplo: se as frequências observadas de cores de bolas em um saco seguem uma distribuição uniforme.\n",
    "\n",
    "A estatística do Qui-Quadrado é calculada como:\n",
    "\n",
    "$$\\chi^2 = \\sum \\frac{(O_i - E_i)^2}{E_i}$$\n",
    "\n",
    "Onde:\n",
    "\n",
    "OiO_iOi​ são as frequências observadas.\n",
    "\n",
    "EiE_iEi​ são as frequências esperadas.\n",
    "\n",
    "Valores elevados de $\\chi^2$ indicam uma grande diferença entre as frequências observadas e esperadas, sugerindo que as variáveis podem não ser independentes ou que os dados não seguem a distribuição esperada.\n"
   ]
  },
  {
   "cell_type": "markdown",
   "metadata": {},
   "source": [
    "## Exemplo I\n",
    "\n",
    "Vamos verificar se há uma associação significativa entre a faixa etária e a preferência pelo produto."
   ]
  },
  {
   "cell_type": "code",
   "execution_count": 1,
   "metadata": {},
   "outputs": [
    {
     "name": "stdout",
     "output_type": "stream",
     "text": [
      "Estatística Qui-Quadrado: 0.000584415584415605\n",
      "p-valor: 0.9807132675440436\n",
      "Graus de liberdade: 1\n",
      "Frequências esperadas:\n",
      "[[19.44444444 15.55555556]\n",
      " [30.55555556 24.44444444]]\n"
     ]
    }
   ],
   "source": [
    "import numpy as np\n",
    "from scipy.stats import chi2_contingency\n",
    "\n",
    "# Dados: tabela de contingência\n",
    "# Linhas: Faixa Etária (Jovem, Adulto)\n",
    "# Colunas: Preferência por Produto (A, B)\n",
    "tabela_contingencia = np.array([[20, 15], [30, 25]])\n",
    "\n",
    "# Realiza o teste Qui-Quadrado\n",
    "chi2, p_valor, graus_de_liberdade, frequencias_esperadas = chi2_contingency(tabela_contingencia)\n",
    "\n",
    "# Exibe os resultados\n",
    "print(f\"Estatística Qui-Quadrado: {chi2}\")\n",
    "print(f\"p-valor: {p_valor}\")\n",
    "print(f\"Graus de liberdade: {graus_de_liberdade}\")\n",
    "print(f\"Frequências esperadas:\\n{frequencias_esperadas}\")\n"
   ]
  },
  {
   "cell_type": "code",
   "execution_count": 3,
   "metadata": {},
   "outputs": [
    {
     "name": "stdout",
     "output_type": "stream",
     "text": [
      "Não há evidências suficientes para afirmar isso\n"
     ]
    }
   ],
   "source": [
    "if p_valor < 0.05:\n",
    "    print('há uma associação entre a faixa etária e a preferência por produto')\n",
    "else:\n",
    "    print('Não há evidências suficientes para afirmar isso')"
   ]
  },
  {
   "cell_type": "markdown",
   "metadata": {},
   "source": [
    "## Exemplo II\n",
    "\n",
    "Vamos considerar um exemplo onde os resultados do teste Qui-Quadrado indicam uma associação significativa entre variáveis."
   ]
  },
  {
   "cell_type": "code",
   "execution_count": 4,
   "metadata": {},
   "outputs": [
    {
     "name": "stdout",
     "output_type": "stream",
     "text": [
      "Estatística Qui-Quadrado: 34.1796875\n",
      "p-valor: 5.0250744641968505e-09\n",
      "Graus de liberdade: 1\n",
      "Frequências esperadas:\n",
      "[[32. 48.]\n",
      " [28. 42.]]\n"
     ]
    }
   ],
   "source": [
    "import numpy as np\n",
    "from scipy.stats import chi2_contingency\n",
    "\n",
    "# Dados: tabela de contingência\n",
    "# Linhas: Hábito de Fumar (Fuma, Não Fuma)\n",
    "# Colunas: Condição de Saúde (Doença, Sem Doença)\n",
    "tabela_contingencia = np.array([[50, 30], [10, 60]])\n",
    "\n",
    "# Realiza o teste Qui-Quadrado\n",
    "chi2, p_valor, graus_de_liberdade, frequencias_esperadas = chi2_contingency(tabela_contingencia)\n",
    "\n",
    "# Exibe os resultados\n",
    "print(f\"Estatística Qui-Quadrado: {chi2}\")\n",
    "print(f\"p-valor: {p_valor}\")\n",
    "print(f\"Graus de liberdade: {graus_de_liberdade}\")\n",
    "print(f\"Frequências esperadas:\\n{frequencias_esperadas}\")\n"
   ]
  },
  {
   "cell_type": "markdown",
   "metadata": {},
   "source": [
    "Se o p-valor for menor que 0,05, haverá evidências para concluir que fumar está significativamente associado ao desenvolvimento de doenças."
   ]
  },
  {
   "cell_type": "code",
   "execution_count": 6,
   "metadata": {},
   "outputs": [
    {
     "name": "stdout",
     "output_type": "stream",
     "text": [
      "Possui evidências significativas\n"
     ]
    }
   ],
   "source": [
    "if p_valor < 0.05:\n",
    "    print('Possui evidências significativas')\n",
    "else:\n",
    "    print('Não possui evidências significativas')"
   ]
  },
  {
   "cell_type": "code",
   "execution_count": null,
   "metadata": {},
   "outputs": [],
   "source": []
  }
 ],
 "metadata": {
  "kernelspec": {
   "display_name": "Python 3",
   "language": "python",
   "name": "python3"
  },
  "language_info": {
   "codemirror_mode": {
    "name": "ipython",
    "version": 3
   },
   "file_extension": ".py",
   "mimetype": "text/x-python",
   "name": "python",
   "nbconvert_exporter": "python",
   "pygments_lexer": "ipython3",
   "version": "3.11.5"
  }
 },
 "nbformat": 4,
 "nbformat_minor": 2
}
