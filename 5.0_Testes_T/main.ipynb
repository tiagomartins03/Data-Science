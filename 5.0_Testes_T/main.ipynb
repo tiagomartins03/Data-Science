{
 "cells": [
  {
   "cell_type": "markdown",
   "metadata": {},
   "source": [
    "## **Teste T**\n",
    "\n",
    "---\n",
    "\n",
    "No passado, devido a falta do poder computacional era muito difícil realizar testes de permutação. Nesse sentido, os cientistas descobriram um método dos testes t. \n",
    "\n",
    "É usado uma comparação muito comum de duas amostras - teste A/B - nas quais os dados são numéricos, utilizando a estatística padronizada."
   ]
  },
  {
   "cell_type": "markdown",
   "metadata": {},
   "source": [
    "# Exemplo 01:\n",
    "\n",
    "---\n",
    "\n",
    "Teste t para uma amostra\n",
    "Suponha que você esteja pesquisando o tempo médio que as pessoas passam no celular por dia. Um estudo anterior indicou que o tempo médio é de 3 horas por dia. Agora, você coletou uma amostra de 10 pessoas e quer saber se o tempo médio dessa amostra é significativamente diferente do tempo médio de 3 horas.\n",
    "\n",
    "Passos:\n",
    "Definir as hipóteses:\n",
    "\n",
    "Hipótese Nula (\n",
    "𝐻\n",
    "0\n",
    "H \n",
    "0\n",
    "​\n",
    " ): A média do tempo no celular é 3 horas por dia.\n",
    "Hipótese Alternativa (\n",
    "𝐻\n",
    "1\n",
    "H \n",
    "1\n",
    "​\n",
    " ): A média do tempo no celular é diferente de 3 horas por dia.\n",
    "Coletar os dados da amostra:\n",
    "\n",
    "Suponha que os tempos em horas sejam: [3.1, 2.9, 3.2, 3.0, 2.8, 3.4, 3.3, 2.7, 3.5, 2.9]\n",
    "\n",
    "Realizar o teste t."
   ]
  },
  {
   "cell_type": "markdown",
   "metadata": {},
   "source": []
  },
  {
   "cell_type": "code",
   "execution_count": 1,
   "metadata": {},
   "outputs": [
    {
     "name": "stdout",
     "output_type": "stream",
     "text": [
      "Estatística t: 0.9517\n",
      "p-value: 0.3661\n",
      "Não rejeitamos a hipótese nula (H0).\n"
     ]
    }
   ],
   "source": [
    "import scipy.stats as stats\n",
    "import numpy as np\n",
    "\n",
    "# Dados da amostra\n",
    "amostra = [3.1, 2.9, 3.2, 3.0, 2.8, 3.4, 3.3, 2.7, 3.5, 2.9]\n",
    "\n",
    "# Média populacional conhecida (hipótese nula)\n",
    "mu_populacional = 3.0\n",
    "\n",
    "# Realizar o teste t para uma amostra\n",
    "t_stat, p_value = stats.ttest_1samp(amostra, mu_populacional)\n",
    "\n",
    "print(f\"Estatística t: {t_stat:.4f}\")\n",
    "print(f\"p-value: {p_value:.4f}\")\n",
    "\n",
    "# Nível de significância\n",
    "alpha = 0.05\n",
    "\n",
    "if p_value < alpha:\n",
    "    print(\"Rejeitamos a hipótese nula (H0).\")\n",
    "else:\n",
    "    print(\"Não rejeitamos a hipótese nula (H0).\")\n"
   ]
  },
  {
   "cell_type": "markdown",
   "metadata": {},
   "source": [
    "Se o p-value for menor que o nível de significância (𝛼=0.05α=0.05), você rejeita a hipótese nula e conclui que a média da amostra é significativamente diferente de 3 horas.\n",
    "\n",
    "Se o p-value for maior que α, você não tem evidências suficientes para rejeitar a hipótese nula, sugerindo que a média da amostra não é significativamente diferente de 3 horas."
   ]
  },
  {
   "cell_type": "markdown",
   "metadata": {},
   "source": []
  },
  {
   "cell_type": "markdown",
   "metadata": {},
   "source": [
    "# Exemplo 2\n",
    "---\n"
   ]
  },
  {
   "cell_type": "markdown",
   "metadata": {},
   "source": [
    "Agora, suponha que você queira comparar o tempo médio no celular entre dois grupos diferentes, como homens e mulheres.\n",
    "\n",
    "Passos: \n",
    "\n",
    "1. Definir as hipóteses:\n",
    "\n",
    "- Hipótese Nula (𝐻0): As médias dos dois grupos são iguais.\n",
    "\n",
    "- Hipótese Alternativa (𝐻1): As médias dos dois grupos são diferentes.\n",
    "\n",
    "\n",
    "2. Coletar os dados das amostras:\n",
    "\n",
    "- Suponha que os tempos em horas sejam:\n",
    "- Homens: [3.1, 2.9, 3.2, 3.0, 2.8]\n",
    "- Mulheres: [3.4, 3.3, 2.7, 3.5, 2.9]\n",
    "\n",
    "3. Realizar o teste t"
   ]
  },
  {
   "cell_type": "markdown",
   "metadata": {},
   "source": []
  },
  {
   "cell_type": "code",
   "execution_count": 2,
   "metadata": {},
   "outputs": [
    {
     "name": "stdout",
     "output_type": "stream",
     "text": [
      "Estatística t: -0.9461\n",
      "p-value: 0.3718\n",
      "Não rejeitamos a hipótese nula (H0).\n"
     ]
    }
   ],
   "source": [
    "# Dados das amostras\n",
    "homens = [3.1, 2.9, 3.2, 3.0, 2.8]\n",
    "mulheres = [3.4, 3.3, 2.7, 3.5, 2.9]\n",
    "\n",
    "# Realizar o teste t para duas amostras independentes\n",
    "t_stat, p_value = stats.ttest_ind(homens, mulheres)\n",
    "\n",
    "print(f\"Estatística t: {t_stat:.4f}\")\n",
    "print(f\"p-value: {p_value:.4f}\")\n",
    "\n",
    "# Nível de significância\n",
    "alpha = 0.05\n",
    "\n",
    "if p_value < alpha:\n",
    "    print(\"Rejeitamos a hipótese nula (H0).\")\n",
    "else:\n",
    "    print(\"Não rejeitamos a hipótese nula (H0).\")\n"
   ]
  },
  {
   "cell_type": "code",
   "execution_count": null,
   "metadata": {},
   "outputs": [],
   "source": []
  }
 ],
 "metadata": {
  "kernelspec": {
   "display_name": "Python 3",
   "language": "python",
   "name": "python3"
  },
  "language_info": {
   "codemirror_mode": {
    "name": "ipython",
    "version": 3
   },
   "file_extension": ".py",
   "mimetype": "text/x-python",
   "name": "python",
   "nbconvert_exporter": "python",
   "pygments_lexer": "ipython3",
   "version": "3.11.5"
  }
 },
 "nbformat": 4,
 "nbformat_minor": 2
}
