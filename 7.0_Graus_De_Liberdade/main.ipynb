{
 "cells": [
  {
   "cell_type": "markdown",
   "metadata": {},
   "source": [
    "# Graus de Liberdade\n",
    "\n",
    "---\n"
   ]
  },
  {
   "cell_type": "markdown",
   "metadata": {},
   "source": [
    "O conceito é aplicado a estatísticas calculadas de dados de amostra e se refere ao número de valores livres para variar. Por exemplo, se você sabe a média para uma amostra de 10 valores, e também sabe 9 dos valores,sabe também o 10^0 valor. Apenas 9 são livres para variar. "
   ]
  },
  {
   "cell_type": "markdown",
   "metadata": {},
   "source": [
    "### Exemplo:\n",
    "\n",
    "---\n",
    "\n",
    "Imagine que você tem três números x1, x2​ e x3​, e você sabe que a média deles é 10. Se x1=8 e x2=11, o valor de x3​ é determinado, ou seja, ele deve ser 11 para que a média continue sendo 10. Nesse caso, mesmo que você tenha três valores, apenas dois são independentes, o que significa que você tem **2 graus de liberdade**."
   ]
  },
  {
   "cell_type": "markdown",
   "metadata": {},
   "source": [
    "# Código\n",
    "\n",
    "---\n"
   ]
  },
  {
   "cell_type": "markdown",
   "metadata": {},
   "source": [
    "Vamos testar a hipótese de que não há diferença significativa entre as médias de dois grupos de notas de alunos.\n",
    "\n",
    "\n",
    "H0 = (As notas dos dois grupos são iguais)\n",
    "H1 = (As médias dos dois grupos são diferentes)\n",
    "nível de significância (𝛼), geralmente 0,05.\n",
    "\n",
    "Se p_value <alfa = extiste diferença\n",
    "Se p_value >alfa = não extiste diferença"
   ]
  },
  {
   "cell_type": "code",
   "execution_count": 2,
   "metadata": {},
   "outputs": [
    {
     "name": "stdout",
     "output_type": "stream",
     "text": [
      "Estatística t: 6.1611\n",
      "Valor p: 0.0003\n",
      "Graus de liberdade: 8\n",
      "Rejeitamos H0. Existe evidência suficiente para dizer que as médias são diferentes (p < 0.05).\n"
     ]
    }
   ],
   "source": [
    "import numpy as np\n",
    "from scipy import stats\n",
    "\n",
    "# Dados dos dois grupos\n",
    "grupo1 = np.array([88, 92, 85, 91, 89])\n",
    "grupo2 = np.array([75, 78, 80, 82, 77])\n",
    "\n",
    "# Definir o nível de significância\n",
    "alpha = 0.05\n",
    "\n",
    "# Realizando o teste t para dois grupos independentes\n",
    "t_stat, p_value = stats.ttest_ind(grupo1, grupo2)\n",
    "\n",
    "# Calculando os graus de liberdade\n",
    "n1 = len(grupo1)\n",
    "n2 = len(grupo2)\n",
    "graus_de_liberdade = n1 + n2 - 2\n",
    "\n",
    "# Exibindo os resultados\n",
    "print(f\"Estatística t: {t_stat:.4f}\")\n",
    "print(f\"Valor p: {p_value:.4f}\")\n",
    "print(f\"Graus de liberdade: {graus_de_liberdade}\")\n",
    "\n",
    "# Inferência estatística\n",
    "if p_value < alpha:\n",
    "    print(f\"Rejeitamos H0. Existe evidência suficiente para dizer que as médias são diferentes (p < {alpha}).\")\n",
    "else:\n",
    "    print(f\"Não rejeitamos H0. Não há evidência suficiente para dizer que as médias são diferentes (p >= {alpha}).\")\n"
   ]
  }
 ],
 "metadata": {
  "kernelspec": {
   "display_name": "Python 3",
   "language": "python",
   "name": "python3"
  },
  "language_info": {
   "codemirror_mode": {
    "name": "ipython",
    "version": 3
   },
   "file_extension": ".py",
   "mimetype": "text/x-python",
   "name": "python",
   "nbconvert_exporter": "python",
   "pygments_lexer": "ipython3",
   "version": "3.11.5"
  }
 },
 "nbformat": 4,
 "nbformat_minor": 2
}
