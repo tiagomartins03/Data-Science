{
 "cells": [
  {
   "cell_type": "markdown",
   "metadata": {},
   "source": [
    "O método dos **Mínimos Quadrados** é uma técnica amplamente usada em **regressão linear** para ajustar o melhor modelo aos dados observados. O objetivo é encontrar uma linha (ou um hiperplano, em dimensões superiores) que minimize a soma dos quadrados dos **resíduos**, que são as diferenças entre os valores observados e os valores previstos pelo modelo.\n",
    "\n",
    "### 1. **Modelo de Regressão Linear**\n",
    "A equação de uma regressão linear simples (com uma variável preditora) é dada por:\n",
    "$$\n",
    "y = \\beta_0 + \\beta_1 x + \\epsilon\n",
    "$$\n",
    "Onde:\n",
    "- \\( y \\) é a variável dependente (valor observado),\n",
    "- \\( x \\) é a variável independente (ou preditora),\n",
    "- \\( \\beta_0 \\) é o intercepto,\n",
    "- \\( \\beta_1 \\) é o coeficiente angular (slope) que determina a inclinação da linha,\n",
    "- \\( \\epsilon \\) é o erro/resíduo.\n",
    "\n",
    "### 2. **Erro (Resíduo)**\n",
    "Para cada observação \\( i \\), o resíduo \\( e_i \\) é a diferença entre o valor observado \\( y_i \\) e o valor predito pelo modelo \\( \\hat{y}_i \\):\n",
    "$$\n",
    "e_i = y_i - \\hat{y}_i\n",
    "$$\n",
    "\n",
    "### 3. **Objetivo: Minimizar a Soma dos Quadrados dos Resíduos**\n",
    "O método dos mínimos quadrados busca minimizar a soma dos quadrados desses resíduos:\n",
    "$$\n",
    "S(\\beta_0, \\beta_1) = \\sum_{i=1}^{n} (y_i - (\\beta_0 + \\beta_1 x_i))^2\n",
    "$$\n",
    "Essa fórmula representa a soma dos quadrados das diferenças entre os valores observados \\( y_i \\) e os valores estimados \\( \\hat{y}_i \\).\n",
    "\n",
    "### 4. **Derivadas Parciais**\n",
    "Para encontrar os coeficientes \\( \\beta_0 \\) e \\( \\beta_1 \\) que minimizam \\( S(\\beta_0, \\beta_1) \\), tomamos as derivadas parciais de \\( S \\) em relação a \\( \\beta_0 \\) e \\( \\beta_1 \\), e igualamos a zero.\n",
    "\n",
    "- Para \\( \\beta_0 \\):\n",
    "$$\n",
    "\\frac{\\partial S}{\\partial \\beta_0} = -2 \\sum_{i=1}^{n} (y_i - \\beta_0 - \\beta_1 x_i) = 0\n",
    "$$\n",
    "\n",
    "- Para \\( \\beta_1 \\):\n",
    "$$\n",
    "\\frac{\\partial S}{\\partial \\beta_1} = -2 \\sum_{i=1}^{n} x_i (y_i - \\beta_0 - \\beta_1 x_i) = 0\n",
    "$$\n",
    "\n",
    "Resolvendo essas equações simultaneamente, encontramos as expressões para \\( \\beta_0 \\) e \\( \\beta_1 \\):\n",
    "\n",
    "$$\n",
    "\\beta_1 = \\frac{\\sum (x_i - \\bar{x})(y_i - \\bar{y})}{\\sum (x_i - \\bar{x})^2}\n",
    "$$\n",
    "\n",
    "$$\n",
    "\\beta_0 = \\bar{y} - \\beta_1 \\bar{x}\n",
    "$$\n",
    "\n",
    "Onde \\( \\bar{x} \\) e \\( \\bar{y} \\) são as médias de \\( x \\) e \\( y \\), respectivamente.\n",
    "\n",
    "### 5. **Interpretação dos Coeficientes**\n",
    "- \\( \\beta_0 \\): Representa o valor de \\( y \\) quando \\( x = 0 \\), ou seja, o intercepto da linha.\n",
    "- \\( \\beta_1 \\): Representa a variação de \\( y \\) para cada unidade de variação em \\( x \\), ou seja, a inclinação da linha.\n"
   ]
  },
  {
   "cell_type": "code",
   "execution_count": 1,
   "metadata": {},
   "outputs": [
    {
     "data": {
      "image/png": "[encoded data removed]",
      "text/plain": [
       "<Figure size 640x480 with 1 Axes>"
      ]
     },
     "metadata": {},
     "output_type": "display_data"
    },
    {
     "name": "stdout",
     "output_type": "stream",
     "text": [
      "Coeficiente angular (beta_1): 0.6\n",
      "Intercepto (beta_0): 2.2\n"
     ]
    }
   ],
   "source": [
    "import numpy as np\n",
    "import matplotlib.pyplot as plt\n",
    "\n",
    "# Dados de exemplo\n",
    "x = np.array([1, 2, 3, 4, 5])\n",
    "y = np.array([2, 4, 5, 4, 5])\n",
    "\n",
    "# Calculando os coeficientes usando fórmulas de mínimos quadrados\n",
    "n = len(x)\n",
    "x_mean = np.mean(x)\n",
    "y_mean = np.mean(y)\n",
    "\n",
    "# Coeficiente angular (slope)\n",
    "beta_1 = np.sum((x - x_mean) * (y - y_mean)) / np.sum((x - x_mean) ** 2)\n",
    "\n",
    "# Intercepto\n",
    "beta_0 = y_mean - beta_1 * x_mean\n",
    "\n",
    "# Valores previstos\n",
    "y_pred = beta_0 + beta_1 * x\n",
    "\n",
    "# Plotando os dados e a linha de regressão\n",
    "plt.scatter(x, y, color=\"blue\", label=\"Dados\")\n",
    "plt.plot(x, y_pred, color=\"red\", label=\"Regressão Linear\")\n",
    "plt.xlabel(\"x\")\n",
    "plt.ylabel(\"y\")\n",
    "plt.legend()\n",
    "plt.show()\n",
    "\n",
    "print(f\"Coeficiente angular (beta_1): {beta_1}\")\n",
    "print(f\"Intercepto (beta_0): {beta_0}\")\n"
   ]
  },
  {
   "cell_type": "markdown",
   "metadata": {},
   "source": [
    "## Ideias Chave\n",
    "\n",
    "---\n",
    "\n",
    "1.  A equação de regressão modela o relacionamento entre a variável responsiva Y e uma variável preditora X como uma linha\n",
    "2.  Um modelo de regressão gera valores ajustados em resíduos - previsões de resposta e erro das previsões\n",
    "3.  Os modelos de regressão costumam ser ajustados pelo método de mínimos quadrados.\n",
    "4.  A regressão é usada tanto para previsão quanto para explicação.x\n",
    "\n",
    "---\n",
    "\n",
    "## Tipos de Erros\n",
    "\n",
    "---\n",
    "\n",
    "1.  Erro Resídual\n",
    "2.  Erro Médio Absoluto (MAE)\n",
    "3.  Erro Quadrático Médio (MSE)\n",
    "4.  Raíz do erro Quadrático Médio (RMSE)\n",
    "5.  R- Quadrado (Coeficiente de Determinação)"
   ]
  },
  {
   "cell_type": "markdown",
   "metadata": {},
   "source": []
  }
 ],
 "metadata": {
  "kernelspec": {
   "display_name": "Python 3",
   "language": "python",
   "name": "python3"
  },
  "language_info": {
   "codemirror_mode": {
    "name": "ipython",
    "version": 3
   },
   "file_extension": ".py",
   "mimetype": "text/x-python",
   "name": "python",
   "nbconvert_exporter": "python",
   "pygments_lexer": "ipython3",
   "version": "3.11.5"
  }
 },
 "nbformat": 4,
 "nbformat_minor": 2
}
